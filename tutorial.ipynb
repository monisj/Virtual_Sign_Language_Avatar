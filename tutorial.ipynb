{
 "cells": [
  {
   "cell_type": "markdown",
   "metadata": {},
   "source": [
    "# 1. Import and Install Dependencies"
   ]
  },
  {
   "source": [
    "!pip install tensorflow==2.4.1 tensorflow-gpu==2.4.1 opencv-python mediapipe sklearn matplotlib\n",
    "!pip install --upgrade imutils"
   ],
   "cell_type": "markdown",
   "metadata": {}
  },
  {
   "cell_type": "code",
   "execution_count": 2,
   "metadata": {},
   "outputs": [
    {
     "name": "stdout",
     "output_type": "stream",
     "text": [
      "Requirement already satisfied: opencv-python in c:\\users\\koolm\\appdata\\local\\programs\\python\\python38\\lib\\site-packages (4.5.4.58)\n",
      "Requirement already satisfied: numpy>=1.17.3 in c:\\users\\koolm\\appdata\\local\\programs\\python\\python38\\lib\\site-packages (from opencv-python) (1.19.5)\n"
     ]
    },
    {
     "name": "stderr",
     "output_type": "stream",
     "text": [
      "WARNING: You are using pip version 20.2.3; however, version 21.3.1 is available.\n",
      "You should consider upgrading via the 'c:\\users\\koolm\\appdata\\local\\programs\\python\\python38\\python.exe -m pip install --upgrade pip' command.\n"
     ]
    }
   ],
   "source": [
    "!pip install sklearn"
   ]
  },
  {
   "cell_type": "code",
   "execution_count": 2,
   "metadata": {},
   "outputs": [
    {
     "ename": "ModuleNotFoundError",
     "evalue": "No module named 'cv2'",
     "output_type": "error",
     "traceback": [
      "\u001b[1;31m---------------------------------------------------------------------------\u001b[0m",
      "\u001b[1;31mModuleNotFoundError\u001b[0m                       Traceback (most recent call last)",
      "\u001b[1;32m<ipython-input-2-646fa0548681>\u001b[0m in \u001b[0;36m<module>\u001b[1;34m\u001b[0m\n\u001b[1;32m----> 1\u001b[1;33m \u001b[1;32mimport\u001b[0m \u001b[0mcv2\u001b[0m\u001b[1;33m\u001b[0m\u001b[1;33m\u001b[0m\u001b[0m\n\u001b[0m\u001b[0;32m      2\u001b[0m \u001b[1;32mimport\u001b[0m \u001b[0mnumpy\u001b[0m \u001b[1;32mas\u001b[0m \u001b[0mnp\u001b[0m\u001b[1;33m\u001b[0m\u001b[1;33m\u001b[0m\u001b[0m\n\u001b[0;32m      3\u001b[0m \u001b[1;32mimport\u001b[0m \u001b[0mos\u001b[0m\u001b[1;33m\u001b[0m\u001b[1;33m\u001b[0m\u001b[0m\n\u001b[0;32m      4\u001b[0m \u001b[1;32mfrom\u001b[0m \u001b[0mmatplotlib\u001b[0m \u001b[1;32mimport\u001b[0m \u001b[0mpyplot\u001b[0m \u001b[1;32mas\u001b[0m \u001b[0mplt\u001b[0m\u001b[1;33m\u001b[0m\u001b[1;33m\u001b[0m\u001b[0m\n\u001b[0;32m      5\u001b[0m \u001b[1;32mimport\u001b[0m \u001b[0mtime\u001b[0m\u001b[1;33m\u001b[0m\u001b[1;33m\u001b[0m\u001b[0m\n",
      "\u001b[1;31mModuleNotFoundError\u001b[0m: No module named 'cv2'"
     ]
    }
   ],
   "source": [
    "import cv2\n",
    "import numpy as np\n",
    "import os\n",
    "from matplotlib import pyplot as plt\n",
    "import time\n",
    "import mediapipe as mp\n",
    "from imutils.video import FileVideoStream\n",
    "from imutils.video import FPS\n",
    "import imutils"
   ]
  },
  {
   "cell_type": "markdown",
   "metadata": {},
   "source": [
    "# 2. Keypoints using MP Holistic"
   ]
  },
  {
   "cell_type": "code",
   "execution_count": 3,
   "metadata": {},
   "outputs": [],
   "source": [
    "mp_holistic = mp.solutions.holistic # Holistic model\n",
    "mp_drawing = mp.solutions.drawing_utils # Drawing utilities"
   ]
  },
  {
   "cell_type": "code",
   "execution_count": 4,
   "metadata": {},
   "outputs": [],
   "source": [
    "def mediapipe_detection(image, model):\n",
    "    image = cv2.cvtColor(image, cv2.COLOR_BGR2RGB) # COLOR CONVERSION BGR 2 RGB\n",
    "    image.flags.writeable = False                  # Image is no longer writeable\n",
    "    results = model.process(image)                 # Make prediction\n",
    "    image.flags.writeable = True                   # Image is now writeable \n",
    "    image = cv2.cvtColor(image, cv2.COLOR_RGB2BGR) # COLOR COVERSION RGB 2 BGR\n",
    "    return image, results"
   ]
  },
  {
   "cell_type": "code",
   "execution_count": 5,
   "metadata": {},
   "outputs": [],
   "source": [
    "def draw_landmarks(image, results):\n",
    "    mp_drawing.draw_landmarks(image, results.face_landmarks, mp_holistic.FACE_CONNECTIONS) # Draw face connections\n",
    "    mp_drawing.draw_landmarks(image, results.pose_landmarks, mp_holistic.POSE_CONNECTIONS) # Draw pose connections\n",
    "    mp_drawing.draw_landmarks(image, results.left_hand_landmarks, mp_holistic.HAND_CONNECTIONS) # Draw left hand connections\n",
    "    mp_drawing.draw_landmarks(image, results.right_hand_landmarks, mp_holistic.HAND_CONNECTIONS) # Draw right hand connections"
   ]
  },
  {
   "cell_type": "code",
   "execution_count": 6,
   "metadata": {},
   "outputs": [],
   "source": [
    "def draw_styled_landmarks(image, results):\n",
    "    # Draw face connections\n",
    "    mp_drawing.draw_landmarks(image, results.face_landmarks, mp_holistic.FACE_CONNECTIONS, \n",
    "                             mp_drawing.DrawingSpec(color=(80,110,10), thickness=1, circle_radius=1), \n",
    "                             mp_drawing.DrawingSpec(color=(80,256,121), thickness=1, circle_radius=1)\n",
    "                             ) \n",
    "    # Draw pose connections\n",
    "    mp_drawing.draw_landmarks(image, results.pose_landmarks, mp_holistic.POSE_CONNECTIONS,\n",
    "                             mp_drawing.DrawingSpec(color=(80,22,10), thickness=2, circle_radius=4), \n",
    "                             mp_drawing.DrawingSpec(color=(80,44,121), thickness=2, circle_radius=2)\n",
    "                             ) \n",
    "    # Draw left hand connections\n",
    "    mp_drawing.draw_landmarks(image, results.left_hand_landmarks, mp_holistic.HAND_CONNECTIONS, \n",
    "                             mp_drawing.DrawingSpec(color=(121,22,76), thickness=2, circle_radius=4), \n",
    "                             mp_drawing.DrawingSpec(color=(121,44,250), thickness=2, circle_radius=2)\n",
    "                             ) \n",
    "    # Draw right hand connections  \n",
    "    mp_drawing.draw_landmarks(image, results.right_hand_landmarks, mp_holistic.HAND_CONNECTIONS, \n",
    "                             mp_drawing.DrawingSpec(color=(245,117,66), thickness=2, circle_radius=4), \n",
    "                             mp_drawing.DrawingSpec(color=(245,66,230), thickness=2, circle_radius=2)\n",
    "                             ) "
   ]
  },
  {
   "cell_type": "code",
   "execution_count": 20,
   "metadata": {},
   "outputs": [
    {
     "name": "stdout",
     "output_type": "stream",
     "text": [
      "222\n",
      "45 207\n",
      "25.0\n"
     ]
    }
   ],
   "source": [
    "cap = cv2.VideoCapture('hello.mp4')\n",
    "length = int(cap.get(cv2.CAP_PROP_FRAME_COUNT))\n",
    "print( length )\n",
    "fps    = cap.get(cv2.CAP_PROP_FPS)\n",
    "start=round(fps*1.8)\n",
    "end=round(length-(fps*0.6))\n",
    "print(start,end)\n",
    "print(fps)"
   ]
  },
  {
   "cell_type": "code",
   "execution_count": 13,
   "metadata": {},
   "outputs": [
    {
     "name": "stdout",
     "output_type": "stream",
     "text": [
      "248\n",
      "-55.0\n",
      "25.0\n"
     ]
    }
   ],
   "source": [
    "cap = cv2.VideoCapture('Assalam-o-Alaikum.mp4')\n",
    "length = int(cap.get(cv2.CAP_PROP_FRAME_COUNT))\n",
    "print( length )\n",
    "fps    = cap.get(cv2.CAP_PROP_FPS)\n",
    "start=round(fps*1.5)\n",
    "end=round(length-fps*2)\n",
    "mid=(start+end)//2\n",
    "end=mid-fps\n",
    "print(start-end)\n",
    "print(fps)\n",
    "cap.set(cv2.CAP_PROP_POS_FRAMES, start)\n",
    "# Set mediapipe model \n",
    "loop=1\n",
    "with mp_holistic.Holistic(min_detection_confidence=0.5, min_tracking_confidence=0.5) as holistic:\n",
    "    frame_counter = start\n",
    "    flip=False\n",
    "    while cap.isOpened():\n",
    "        # Read feed\n",
    "        ret, frame = cap.read()\n",
    "        if flip:\n",
    "            frame=cv2.flip(frame,1)\n",
    "        frame_counter+=1\n",
    "        #print(frame_counter)\n",
    "        if frame_counter == end:\n",
    "            #print(loop,end)\n",
    "            #print(loop//2)\n",
    "            if flip is False:\n",
    "                flip=True\n",
    "            else:\n",
    "                flip=False\n",
    "                if loop%2 == 0 and loop >= 2:\n",
    "                    start=round(fps*1.5)\n",
    "                    end=mid-fps\n",
    "                else:\n",
    "                    start=mid+fps\n",
    "                    end=round(length-fps*2)\n",
    "                loop+=1\n",
    "            frame_counter = start\n",
    "            cap.set(cv2.CAP_PROP_POS_FRAMES, start)\n",
    "            continue\n",
    "\n",
    "        # Make detections\n",
    "        image, results = mediapipe_detection(frame, holistic)\n",
    "        #print(results)\n",
    "        \n",
    "        # Draw landmarks\n",
    "        draw_styled_landmarks(image, results)\n",
    "\n",
    "        # Show to screen\n",
    "        cv2.imshow('OpenCV Feed', image)\n",
    "\n",
    "        # Break gracefully\n",
    "        if cv2.waitKey(10) & 0xFF == ord('q'):\n",
    "            break\n",
    "    cap.release()\n",
    "    cv2.destroyAllWindows()"
   ]
  },
  {
   "cell_type": "code",
   "execution_count": 22,
   "metadata": {},
   "outputs": [],
   "source": [
    "cap.release()\n",
    "cv2.destroyAllWindows()"
   ]
  },
  {
   "cell_type": "code",
   "execution_count": 23,
   "metadata": {},
   "outputs": [
    {
     "name": "stdout",
     "output_type": "stream",
     "text": [
      "fps = 25.0\n",
      "number of frames = 222\n",
      "duration (S) = 8.88\n",
      "duration (M:S) = 0:8.88\n"
     ]
    }
   ],
   "source": [
    "import cv2\n",
    "\n",
    "cap = cv2.VideoCapture(\"hello.mp4\")\n",
    "fps = cap.get(cv2.CAP_PROP_FPS)      # OpenCV2 version 2 used \"CV_CAP_PROP_FPS\"\n",
    "frame_count = int(cap.get(cv2.CAP_PROP_FRAME_COUNT))\n",
    "duration = frame_count/fps\n",
    "\n",
    "print('fps = ' + str(fps))\n",
    "print('number of frames = ' + str(frame_count))\n",
    "print('duration (S) = ' + str(duration))\n",
    "minutes = int(duration/60)\n",
    "seconds = duration%60\n",
    "print('duration (M:S) = ' + str(minutes) + ':' + str(seconds))\n",
    "\n",
    "cap.release()"
   ]
  },
  {
   "cell_type": "code",
   "execution_count": 24,
   "metadata": {},
   "outputs": [],
   "source": [
    "draw_landmarks(frame, results)"
   ]
  },
  {
   "cell_type": "code",
   "execution_count": 25,
   "metadata": {},
   "outputs": [],
   "source": [
    "cap.release()\n",
    "cv2.destroyAllWindows()"
   ]
  },
  {
   "cell_type": "code",
   "execution_count": 26,
   "metadata": {},
   "outputs": [
    {
     "data": {
      "text/plain": [
       "<matplotlib.image.AxesImage at 0x1a2ee148b20>"
      ]
     },
     "execution_count": 26,
     "metadata": {},
     "output_type": "execute_result"
    },
    {
     "data": {
      "image/png": "[encoded data removed]",
      "text/plain": [
       "<Figure size 432x288 with 1 Axes>"
      ]
     },
     "metadata": {
      "needs_background": "light"
     },
     "output_type": "display_data"
    }
   ],
   "source": [
    "plt.imshow(cv2.cvtColor(frame, cv2.COLOR_BGR2RGB))"
   ]
  },
  {
   "cell_type": "markdown",
   "metadata": {},
   "source": [
    "# 3. Extract Keypoint Values"
   ]
  },
  {
   "cell_type": "code",
   "execution_count": 27,
   "metadata": {
    "scrolled": true
   },
   "outputs": [
    {
     "data": {
      "text/plain": [
       "21"
      ]
     },
     "execution_count": 27,
     "metadata": {},
     "output_type": "execute_result"
    }
   ],
   "source": [
    "len(results.left_hand_landmarks.landmark)"
   ]
  },
  {
   "cell_type": "code",
   "execution_count": 28,
   "metadata": {},
   "outputs": [],
   "source": [
    "pose = []\n",
    "for res in results.pose_landmarks.landmark:\n",
    "    test = np.array([res.x, res.y, res.z, res.visibility])\n",
    "    pose.append(test)"
   ]
  },
  {
   "cell_type": "code",
   "execution_count": 29,
   "metadata": {},
   "outputs": [],
   "source": [
    "pose = np.array([[res.x, res.y, res.z, res.visibility] for res in results.pose_landmarks.landmark]).flatten() if results.pose_landmarks else np.zeros(132)\n",
    "face = np.array([[res.x, res.y, res.z] for res in results.face_landmarks.landmark]).flatten() if results.face_landmarks else np.zeros(1404)\n",
    "lh = np.array([[res.x, res.y, res.z] for res in results.left_hand_landmarks.landmark]).flatten() if results.left_hand_landmarks else np.zeros(21*3)\n",
    "rh = np.array([[res.x, res.y, res.z] for res in results.right_hand_landmarks.landmark]).flatten() if results.right_hand_landmarks else np.zeros(21*3)"
   ]
  },
  {
   "cell_type": "code",
   "execution_count": 30,
   "metadata": {},
   "outputs": [],
   "source": [
    "face = np.array([[res.x, res.y, res.z] for res in results.face_landmarks.landmark]).flatten() if results.face_landmarks else np.zeros(1404)\n"
   ]
  },
  {
   "cell_type": "code",
   "execution_count": 7,
   "metadata": {},
   "outputs": [],
   "source": [
    "def extract_keypoints(results):\n",
    "    pose = np.array([[res.x, res.y, res.z, res.visibility] for res in results.pose_landmarks.landmark]).flatten() if results.pose_landmarks else np.zeros(33*4)\n",
    "    face = np.array([[res.x, res.y, res.z] for res in results.face_landmarks.landmark]).flatten() if results.face_landmarks else np.zeros(468*3)\n",
    "    lh = np.array([[res.x, res.y, res.z] for res in results.left_hand_landmarks.landmark]).flatten() if results.left_hand_landmarks else np.zeros(21*3)\n",
    "    rh = np.array([[res.x, res.y, res.z] for res in results.right_hand_landmarks.landmark]).flatten() if results.right_hand_landmarks else np.zeros(21*3)\n",
    "    return np.concatenate([pose, face, lh, rh])"
   ]
  },
  {
   "cell_type": "code",
   "execution_count": 32,
   "metadata": {},
   "outputs": [],
   "source": [
    "result_test = extract_keypoints(results)"
   ]
  },
  {
   "cell_type": "code",
   "execution_count": 33,
   "metadata": {},
   "outputs": [
    {
     "data": {
      "text/plain": [
       "array([ 0.66799438,  0.2739543 , -0.85648173, ...,  0.        ,\n",
       "        0.        ,  0.        ])"
      ]
     },
     "execution_count": 33,
     "metadata": {},
     "output_type": "execute_result"
    }
   ],
   "source": [
    "result_test"
   ]
  },
  {
   "cell_type": "code",
   "execution_count": 34,
   "metadata": {},
   "outputs": [],
   "source": [
    "np.save('0', result_test)"
   ]
  },
  {
   "cell_type": "code",
   "execution_count": 35,
   "metadata": {},
   "outputs": [
    {
     "data": {
      "text/plain": [
       "array([ 0.66799438,  0.2739543 , -0.85648173, ...,  0.        ,\n",
       "        0.        ,  0.        ])"
      ]
     },
     "execution_count": 35,
     "metadata": {},
     "output_type": "execute_result"
    }
   ],
   "source": [
    "np.load('0.npy')"
   ]
  },
  {
   "cell_type": "markdown",
   "metadata": {},
   "source": [
    "# 4. Setup Folders for Collection"
   ]
  },
  {
   "cell_type": "code",
   "execution_count": 57,
   "metadata": {},
   "outputs": [],
   "source": [
    "# Path for exported data, numpy arrays\n",
    "import pathlib\n",
    "\n",
    "DATA_PATH = data_path=pathlib.Path.cwd().joinpath('MP_DATA')\n",
    "\n",
    "# Actions that we try to detect\n",
    "actions = np.array(['hello', 'alright', 'Assalam-o-Alaikum','good afternoon','good evening','good morning'])\n",
    "\n",
    "# Thirty videos worth of data\n",
    "no_sequences = 14\n",
    "\n",
    "# Videos are going to be 30 frames in length\n",
    "sequence_length = 14\n",
    "\n",
    "# Folder start\n",
    "start_folder = 0"
   ]
  },
  {
   "cell_type": "code",
   "execution_count": 61,
   "metadata": {},
   "outputs": [
    {
     "data": {
      "text/plain": [
       "False"
      ]
     },
     "execution_count": 61,
     "metadata": {},
     "output_type": "execute_result"
    }
   ],
   "source": [
    "pathlib.Path(DATA_PATH).joinpath('good evening').is_dir()"
   ]
  },
  {
   "cell_type": "code",
   "execution_count": 37,
   "metadata": {
    "scrolled": true
   },
   "outputs": [],
   "source": [
    "# for action in actions:\n",
    "#     for s in range(0,no_sequences):\n",
    "#         pathlib.Path(data_path).joinpath(action,str(s)).mkdir(parents=True, exist_ok=True)"
   ]
  },
  {
   "cell_type": "markdown",
   "metadata": {},
   "source": [
    "# 5. Collect Keypoint Values for Training and Testing"
   ]
  },
  {
   "cell_type": "code",
   "execution_count": 62,
   "metadata": {},
   "outputs": [
    {
     "name": "stdout",
     "output_type": "stream",
     "text": [
      "hello\n",
      "alright\n",
      "Assalam-o-Alaikum\n"
     ]
    }
   ],
   "source": [
    "# Set mediapipe model \n",
    "with mp_holistic.Holistic(min_detection_confidence=0.5, min_tracking_confidence=0.5) as holistic:\n",
    "    \n",
    "    # NEW LOOP\n",
    "    # Loop through actions\n",
    "    for action in actions:\n",
    "        if pathlib.Path(DATA_PATH).joinpath(action).is_dir():\n",
    "            print(action)\n",
    "            continue\n",
    "        cap = cv2.VideoCapture(f'{action}.mp4')\n",
    "        # Loop through sequences aka videos\n",
    "        length = int(cap.get(cv2.CAP_PROP_FRAME_COUNT))\n",
    "        fps    = cap.get(cv2.CAP_PROP_FPS)\n",
    "        start=round(fps*1.5)\n",
    "        end=round(length-fps*2)\n",
    "        mid=(start+end)//2\n",
    "        end=mid-fps\n",
    "        cap.set(cv2.CAP_PROP_POS_FRAMES, start)\n",
    "        loop=1\n",
    "        frame_counter = start\n",
    "        flip=False\n",
    "        while loop <= no_sequences:\n",
    "            # Loop through video length aka sequence length\n",
    "            next=False\n",
    "            f=0\n",
    "            while next is not True:\n",
    "\n",
    "                # Read feed\n",
    "                ret, frame = cap.read()\n",
    "                if flip:\n",
    "                    frame=cv2.flip(frame,1)\n",
    "                frame_counter+=1\n",
    "                f+=1\n",
    "                #print(frame_counter)\n",
    "                if frame_counter == end:\n",
    "                    #print(loop,end)\n",
    "                    #print(loop//2)\n",
    "                    if flip is False:\n",
    "                        flip=True\n",
    "                    else:\n",
    "                        flip=False\n",
    "                        if loop%2 == 0 and loop >= 2:\n",
    "                            start=round(fps*1.5)\n",
    "                            end=mid-fps\n",
    "                        else:\n",
    "                            start=mid+fps\n",
    "                            end=round(length-fps*2)\n",
    "                        loop+=1\n",
    "                    next=True\n",
    "                    frame_counter = start\n",
    "                    cap.set(cv2.CAP_PROP_POS_FRAMES, start)\n",
    "                    continue\n",
    "\n",
    "                # Make detections\n",
    "                image, results = mediapipe_detection(frame, holistic)\n",
    "\n",
    "                # Draw landmarks\n",
    "                draw_styled_landmarks(image, results)\n",
    "                \n",
    "                \n",
    "                cv2.imshow('OpenCV Feed', image)\n",
    "                # NEW Export keypoints\n",
    "                keypoints = extract_keypoints(results)\n",
    "                pathlib.Path(data_path).joinpath(action,str(loop)).mkdir(parents=True, exist_ok=True)\n",
    "                npy_path = pathlib.Path(data_path).joinpath(action,str(loop),str(f))\n",
    "                np.save(npy_path, keypoints)\n",
    "\n",
    "                # Break gracefully\n",
    "                if cv2.waitKey(10) & 0xFF == ord('q'):\n",
    "                    break\n",
    "                    \n",
    "    cap.release()\n",
    "    cv2.destroyAllWindows()"
   ]
  },
  {
   "cell_type": "code",
   "execution_count": 18,
   "metadata": {},
   "outputs": [],
   "source": [
    "cap.release()\n",
    "cv2.destroyAllWindows()"
   ]
  },
  {
   "cell_type": "markdown",
   "metadata": {},
   "source": [
    "# 6. Preprocess Data and Create Labels and Features"
   ]
  },
  {
   "cell_type": "code",
   "execution_count": 63,
   "metadata": {},
   "outputs": [],
   "source": [
    "from sklearn.model_selection import train_test_split\n",
    "from tensorflow.keras.utils import to_categorical"
   ]
  },
  {
   "cell_type": "code",
   "execution_count": 64,
   "metadata": {},
   "outputs": [],
   "source": [
    "label_map = {label:num for num, label in enumerate(actions)}"
   ]
  },
  {
   "cell_type": "code",
   "execution_count": 80,
   "metadata": {},
   "outputs": [
    {
     "data": {
      "text/plain": [
       "{'hello': 0,\n",
       " 'alright': 1,\n",
       " 'Assalam-o-Alaikum': 2,\n",
       " 'good afternoon': 3,\n",
       " 'good evening': 4,\n",
       " 'good morning': 5}"
      ]
     },
     "execution_count": 80,
     "metadata": {},
     "output_type": "execute_result"
    }
   ],
   "source": [
    "label_map"
   ]
  },
  {
   "cell_type": "code",
   "execution_count": 79,
   "metadata": {},
   "outputs": [],
   "source": [
    "sequences, labels = [], []\n",
    "for action in actions:\n",
    "    for sequence in np.array(os.listdir(os.path.join(DATA_PATH, action))).astype(int):\n",
    "        window = []\n",
    "        for frame_num in range(1,sequence_length+1):\n",
    "            res = np.load(os.path.join(DATA_PATH, action, str(sequence), \"{}.npy\".format(frame_num)))\n",
    "            window.append(res)\n",
    "        sequences.append(window)\n",
    "        labels.append(label_map[action])"
   ]
  },
  {
   "cell_type": "code",
   "execution_count": 81,
   "metadata": {},
   "outputs": [
    {
     "data": {
      "text/plain": [
       "(84, 14, 1662)"
      ]
     },
     "execution_count": 81,
     "metadata": {},
     "output_type": "execute_result"
    }
   ],
   "source": [
    "np.array(sequences).shape"
   ]
  },
  {
   "cell_type": "code",
   "execution_count": 82,
   "metadata": {},
   "outputs": [
    {
     "data": {
      "text/plain": [
       "(84,)"
      ]
     },
     "execution_count": 82,
     "metadata": {},
     "output_type": "execute_result"
    }
   ],
   "source": [
    "np.array(labels).shape"
   ]
  },
  {
   "cell_type": "code",
   "execution_count": 83,
   "metadata": {},
   "outputs": [],
   "source": [
    "X = np.array(sequences)"
   ]
  },
  {
   "cell_type": "code",
   "execution_count": 84,
   "metadata": {},
   "outputs": [
    {
     "data": {
      "text/plain": [
       "(84, 14, 1662)"
      ]
     },
     "execution_count": 84,
     "metadata": {},
     "output_type": "execute_result"
    }
   ],
   "source": [
    "X.shape"
   ]
  },
  {
   "cell_type": "code",
   "execution_count": 85,
   "metadata": {},
   "outputs": [],
   "source": [
    "y = to_categorical(labels).astype(int)"
   ]
  },
  {
   "cell_type": "code",
   "execution_count": 91,
   "metadata": {},
   "outputs": [],
   "source": [
    "X_train, X_test, y_train, y_test = train_test_split(X, y, test_size=0.05)"
   ]
  },
  {
   "cell_type": "code",
   "execution_count": 92,
   "metadata": {},
   "outputs": [
    {
     "data": {
      "text/plain": [
       "(5, 6)"
      ]
     },
     "execution_count": 92,
     "metadata": {},
     "output_type": "execute_result"
    }
   ],
   "source": [
    "y_test.shape"
   ]
  },
  {
   "cell_type": "markdown",
   "metadata": {},
   "source": [
    "# 7. Build and Train LSTM Neural Network"
   ]
  },
  {
   "cell_type": "code",
   "execution_count": 93,
   "metadata": {},
   "outputs": [],
   "source": [
    "from tensorflow.keras.models import Sequential\n",
    "from tensorflow.keras.layers import LSTM, Dense\n",
    "from tensorflow.keras.callbacks import TensorBoard"
   ]
  },
  {
   "cell_type": "code",
   "execution_count": 94,
   "metadata": {},
   "outputs": [],
   "source": [
    "log_dir = os.path.join('Logs')\n",
    "tb_callback = TensorBoard(log_dir=log_dir)"
   ]
  },
  {
   "cell_type": "code",
   "execution_count": 95,
   "metadata": {},
   "outputs": [],
   "source": [
    "model = Sequential()\n",
    "model.add(LSTM(64, return_sequences=True, activation='relu'))\n",
    "model.add(LSTM(128, return_sequences=True, activation='relu'))\n",
    "model.add(LSTM(64, return_sequences=False, activation='relu'))\n",
    "model.add(Dense(64, activation='relu'))\n",
    "model.add(Dense(32, activation='relu'))\n",
    "model.add(Dense(actions.shape[0], activation='softmax'))"
   ]
  },
  {
   "cell_type": "code",
   "execution_count": 96,
   "metadata": {},
   "outputs": [],
   "source": [
    "model.compile(optimizer='Adam', loss='categorical_crossentropy', metrics=['categorical_accuracy'])"
   ]
  },
  {
   "cell_type": "code",
   "execution_count": 97,
   "metadata": {
    "scrolled": true
   },
   "outputs": [
    {
     "name": "stdout",
     "output_type": "stream",
     "text": [
      "Epoch 1/500\n",
      "3/3 [==============================] - 3s 224ms/step - loss: 1.8451 - categorical_accuracy: 0.2025\n",
      "Epoch 2/500\n",
      "3/3 [==============================] - 0s 33ms/step - loss: 1.7939 - categorical_accuracy: 0.1646\n",
      "Epoch 3/500\n",
      "3/3 [==============================] - 0s 43ms/step - loss: 1.7986 - categorical_accuracy: 0.1772\n",
      "Epoch 4/500\n",
      "3/3 [==============================] - 0s 33ms/step - loss: 1.8093 - categorical_accuracy: 0.1266\n",
      "Epoch 5/500\n",
      "3/3 [==============================] - 0s 34ms/step - loss: 1.7742 - categorical_accuracy: 0.2025\n",
      "Epoch 6/500\n",
      "3/3 [==============================] - 0s 41ms/step - loss: 1.7670 - categorical_accuracy: 0.3165\n",
      "Epoch 7/500\n",
      "3/3 [==============================] - 0s 39ms/step - loss: 1.7305 - categorical_accuracy: 0.3291\n",
      "Epoch 8/500\n",
      "3/3 [==============================] - 0s 34ms/step - loss: 1.6849 - categorical_accuracy: 0.3418\n",
      "Epoch 9/500\n",
      "3/3 [==============================] - 0s 38ms/step - loss: 1.5975 - categorical_accuracy: 0.3165\n",
      "Epoch 10/500\n",
      "3/3 [==============================] - 0s 35ms/step - loss: 1.6624 - categorical_accuracy: 0.3165\n",
      "Epoch 11/500\n",
      "3/3 [==============================] - 0s 42ms/step - loss: 1.6752 - categorical_accuracy: 0.2532\n",
      "Epoch 12/500\n",
      "3/3 [==============================] - 0s 44ms/step - loss: 1.5873 - categorical_accuracy: 0.2911\n",
      "Epoch 13/500\n",
      "3/3 [==============================] - 0s 39ms/step - loss: 1.5371 - categorical_accuracy: 0.3797\n",
      "Epoch 14/500\n",
      "3/3 [==============================] - 0s 36ms/step - loss: 1.4616 - categorical_accuracy: 0.3165\n",
      "Epoch 15/500\n",
      "3/3 [==============================] - 0s 41ms/step - loss: 1.4366 - categorical_accuracy: 0.4304\n",
      "Epoch 16/500\n",
      "3/3 [==============================] - 0s 44ms/step - loss: 1.3254 - categorical_accuracy: 0.4810\n",
      "Epoch 17/500\n",
      "3/3 [==============================] - 0s 40ms/step - loss: 1.2803 - categorical_accuracy: 0.4684\n",
      "Epoch 18/500\n",
      "3/3 [==============================] - 0s 57ms/step - loss: 1.2475 - categorical_accuracy: 0.5190\n",
      "Epoch 19/500\n",
      "3/3 [==============================] - 0s 40ms/step - loss: 1.2521 - categorical_accuracy: 0.5063\n",
      "Epoch 20/500\n",
      "3/3 [==============================] - 0s 41ms/step - loss: 1.1991 - categorical_accuracy: 0.4177\n",
      "Epoch 21/500\n",
      "3/3 [==============================] - 0s 40ms/step - loss: 1.1885 - categorical_accuracy: 0.4557\n",
      "Epoch 22/500\n",
      "3/3 [==============================] - 0s 45ms/step - loss: 1.1466 - categorical_accuracy: 0.4304\n",
      "Epoch 23/500\n",
      "3/3 [==============================] - 0s 36ms/step - loss: 1.1486 - categorical_accuracy: 0.4937\n",
      "Epoch 24/500\n",
      "3/3 [==============================] - 0s 42ms/step - loss: 1.0853 - categorical_accuracy: 0.4430\n",
      "Epoch 25/500\n",
      "3/3 [==============================] - 0s 38ms/step - loss: 1.1533 - categorical_accuracy: 0.4177\n",
      "Epoch 26/500\n",
      "3/3 [==============================] - 0s 32ms/step - loss: 1.3252 - categorical_accuracy: 0.5063\n",
      "Epoch 27/500\n",
      "3/3 [==============================] - 0s 41ms/step - loss: 2.3774 - categorical_accuracy: 0.1772\n",
      "Epoch 28/500\n",
      "3/3 [==============================] - 0s 37ms/step - loss: 2.0612 - categorical_accuracy: 0.1392\n",
      "Epoch 29/500\n",
      "3/3 [==============================] - 0s 38ms/step - loss: 1.8543 - categorical_accuracy: 0.1519\n",
      "Epoch 30/500\n",
      "3/3 [==============================] - 0s 37ms/step - loss: 1.7535 - categorical_accuracy: 0.1772\n",
      "Epoch 31/500\n",
      "3/3 [==============================] - 0s 38ms/step - loss: 1.6937 - categorical_accuracy: 0.1646\n",
      "Epoch 32/500\n",
      "3/3 [==============================] - 0s 39ms/step - loss: 1.6685 - categorical_accuracy: 0.2532\n",
      "Epoch 33/500\n",
      "3/3 [==============================] - 0s 40ms/step - loss: 1.4577 - categorical_accuracy: 0.3418\n",
      "Epoch 34/500\n",
      "3/3 [==============================] - 0s 39ms/step - loss: 1.5135 - categorical_accuracy: 0.3165\n",
      "Epoch 35/500\n",
      "3/3 [==============================] - 0s 41ms/step - loss: 1.4760 - categorical_accuracy: 0.3291\n",
      "Epoch 36/500\n",
      "3/3 [==============================] - 0s 36ms/step - loss: 1.3987 - categorical_accuracy: 0.3797\n",
      "Epoch 37/500\n",
      "3/3 [==============================] - 0s 38ms/step - loss: 1.3870 - categorical_accuracy: 0.2532\n",
      "Epoch 38/500\n",
      "3/3 [==============================] - 0s 36ms/step - loss: 1.3542 - categorical_accuracy: 0.3544\n",
      "Epoch 39/500\n",
      "3/3 [==============================] - 0s 41ms/step - loss: 1.3672 - categorical_accuracy: 0.3797\n",
      "Epoch 40/500\n",
      "3/3 [==============================] - 0s 37ms/step - loss: 1.3494 - categorical_accuracy: 0.4051\n",
      "Epoch 41/500\n",
      "3/3 [==============================] - 0s 36ms/step - loss: 1.3139 - categorical_accuracy: 0.3797\n",
      "Epoch 42/500\n",
      "3/3 [==============================] - 0s 39ms/step - loss: 1.3125 - categorical_accuracy: 0.4051\n",
      "Epoch 43/500\n",
      "3/3 [==============================] - 0s 39ms/step - loss: 1.2715 - categorical_accuracy: 0.4304\n",
      "Epoch 44/500\n",
      "3/3 [==============================] - 0s 39ms/step - loss: 1.2450 - categorical_accuracy: 0.4430\n",
      "Epoch 45/500\n",
      "3/3 [==============================] - 0s 42ms/step - loss: 1.5468 - categorical_accuracy: 0.4810\n",
      "Epoch 46/500\n",
      "3/3 [==============================] - 0s 38ms/step - loss: 1.6069 - categorical_accuracy: 0.3291\n",
      "Epoch 47/500\n",
      "3/3 [==============================] - 0s 38ms/step - loss: 1.7565 - categorical_accuracy: 0.1646\n",
      "Epoch 48/500\n",
      "3/3 [==============================] - 0s 44ms/step - loss: 1.6696 - categorical_accuracy: 0.2405\n",
      "Epoch 49/500\n",
      "3/3 [==============================] - 0s 38ms/step - loss: 1.5805 - categorical_accuracy: 0.2911\n",
      "Epoch 50/500\n",
      "3/3 [==============================] - 0s 38ms/step - loss: 1.4811 - categorical_accuracy: 0.2911\n",
      "Epoch 51/500\n",
      "3/3 [==============================] - 0s 45ms/step - loss: 1.3774 - categorical_accuracy: 0.3544\n",
      "Epoch 52/500\n",
      "3/3 [==============================] - 0s 36ms/step - loss: 1.4245 - categorical_accuracy: 0.3418\n",
      "Epoch 53/500\n",
      "3/3 [==============================] - 0s 38ms/step - loss: 1.3307 - categorical_accuracy: 0.4051\n",
      "Epoch 54/500\n",
      "3/3 [==============================] - 0s 35ms/step - loss: 1.3474 - categorical_accuracy: 0.2658\n",
      "Epoch 55/500\n",
      "3/3 [==============================] - 0s 40ms/step - loss: 1.3242 - categorical_accuracy: 0.4557\n",
      "Epoch 56/500\n",
      "3/3 [==============================] - 0s 42ms/step - loss: 1.3255 - categorical_accuracy: 0.3544\n",
      "Epoch 57/500\n",
      "3/3 [==============================] - 0s 38ms/step - loss: 1.3065 - categorical_accuracy: 0.4684\n",
      "Epoch 58/500\n",
      "3/3 [==============================] - 0s 39ms/step - loss: 1.3003 - categorical_accuracy: 0.4051\n",
      "Epoch 59/500\n",
      "3/3 [==============================] - 0s 42ms/step - loss: 1.3993 - categorical_accuracy: 0.3797\n",
      "Epoch 60/500\n",
      "3/3 [==============================] - 0s 39ms/step - loss: 1.6096 - categorical_accuracy: 0.3291\n",
      "Epoch 61/500\n",
      "3/3 [==============================] - 0s 46ms/step - loss: 1.6377 - categorical_accuracy: 0.2911\n",
      "Epoch 62/500\n",
      "3/3 [==============================] - 0s 37ms/step - loss: 1.6205 - categorical_accuracy: 0.2911\n",
      "Epoch 63/500\n",
      "3/3 [==============================] - 0s 41ms/step - loss: 1.5196 - categorical_accuracy: 0.3291\n",
      "Epoch 64/500\n",
      "3/3 [==============================] - 0s 36ms/step - loss: 1.4247 - categorical_accuracy: 0.3291\n",
      "Epoch 65/500\n",
      "3/3 [==============================] - 0s 36ms/step - loss: 1.3906 - categorical_accuracy: 0.3291\n",
      "Epoch 66/500\n",
      "3/3 [==============================] - 0s 36ms/step - loss: 1.3462 - categorical_accuracy: 0.3544\n",
      "Epoch 67/500\n",
      "3/3 [==============================] - 0s 41ms/step - loss: 1.3277 - categorical_accuracy: 0.3671\n",
      "Epoch 68/500\n",
      "3/3 [==============================] - 0s 38ms/step - loss: 1.3280 - categorical_accuracy: 0.3797\n",
      "Epoch 69/500\n",
      "3/3 [==============================] - 0s 40ms/step - loss: 1.3156 - categorical_accuracy: 0.4051\n",
      "Epoch 70/500\n",
      "3/3 [==============================] - 0s 37ms/step - loss: 1.2942 - categorical_accuracy: 0.4177\n",
      "Epoch 71/500\n",
      "3/3 [==============================] - 0s 38ms/step - loss: 1.3440 - categorical_accuracy: 0.3544\n",
      "Epoch 72/500\n",
      "3/3 [==============================] - 0s 40ms/step - loss: 1.3110 - categorical_accuracy: 0.4051\n",
      "Epoch 73/500\n",
      "3/3 [==============================] - 0s 38ms/step - loss: 1.3002 - categorical_accuracy: 0.3924\n",
      "Epoch 74/500\n",
      "3/3 [==============================] - 0s 32ms/step - loss: 1.2861 - categorical_accuracy: 0.5190\n",
      "Epoch 75/500\n",
      "3/3 [==============================] - 0s 38ms/step - loss: 1.2952 - categorical_accuracy: 0.4177\n",
      "Epoch 76/500\n",
      "3/3 [==============================] - 0s 36ms/step - loss: 1.2548 - categorical_accuracy: 0.4304\n",
      "Epoch 77/500\n",
      "3/3 [==============================] - 0s 38ms/step - loss: 1.2370 - categorical_accuracy: 0.4051\n",
      "Epoch 78/500\n",
      "3/3 [==============================] - 0s 37ms/step - loss: 1.3772 - categorical_accuracy: 0.3671\n",
      "Epoch 79/500\n",
      "3/3 [==============================] - 0s 38ms/step - loss: 1.2902 - categorical_accuracy: 0.4051\n",
      "Epoch 80/500\n",
      "3/3 [==============================] - 0s 37ms/step - loss: 1.2466 - categorical_accuracy: 0.5696\n",
      "Epoch 81/500\n",
      "3/3 [==============================] - 0s 36ms/step - loss: 1.2483 - categorical_accuracy: 0.5063\n",
      "Epoch 82/500\n",
      "3/3 [==============================] - 0s 37ms/step - loss: 1.2561 - categorical_accuracy: 0.4430\n",
      "Epoch 83/500\n",
      "3/3 [==============================] - 0s 40ms/step - loss: 1.2300 - categorical_accuracy: 0.4557\n",
      "Epoch 84/500\n",
      "3/3 [==============================] - 0s 44ms/step - loss: 1.2759 - categorical_accuracy: 0.4937\n",
      "Epoch 85/500\n",
      "3/3 [==============================] - 0s 39ms/step - loss: 1.2285 - categorical_accuracy: 0.4177\n",
      "Epoch 86/500\n",
      "3/3 [==============================] - 0s 39ms/step - loss: 1.1538 - categorical_accuracy: 0.5443\n",
      "Epoch 87/500\n",
      "3/3 [==============================] - 0s 42ms/step - loss: 1.1293 - categorical_accuracy: 0.4684\n",
      "Epoch 88/500\n",
      "3/3 [==============================] - 0s 38ms/step - loss: 1.0806 - categorical_accuracy: 0.4557\n",
      "Epoch 89/500\n",
      "3/3 [==============================] - 0s 39ms/step - loss: 1.4385 - categorical_accuracy: 0.4304\n",
      "Epoch 90/500\n",
      "3/3 [==============================] - 0s 42ms/step - loss: 1.4168 - categorical_accuracy: 0.4051\n",
      "Epoch 91/500\n",
      "3/3 [==============================] - 0s 38ms/step - loss: 1.4337 - categorical_accuracy: 0.4051\n",
      "Epoch 92/500\n",
      "3/3 [==============================] - 0s 39ms/step - loss: 1.4133 - categorical_accuracy: 0.3671\n",
      "Epoch 93/500\n",
      "3/3 [==============================] - 0s 39ms/step - loss: 1.3835 - categorical_accuracy: 0.3924\n",
      "Epoch 94/500\n",
      "3/3 [==============================] - 0s 38ms/step - loss: 1.3653 - categorical_accuracy: 0.2911\n",
      "Epoch 95/500\n",
      "3/3 [==============================] - 0s 40ms/step - loss: 1.3518 - categorical_accuracy: 0.4304\n",
      "Epoch 96/500\n",
      "3/3 [==============================] - 0s 38ms/step - loss: 1.3315 - categorical_accuracy: 0.4430\n",
      "Epoch 97/500\n",
      "3/3 [==============================] - 0s 40ms/step - loss: 1.3264 - categorical_accuracy: 0.4684\n",
      "Epoch 98/500\n",
      "3/3 [==============================] - 0s 39ms/step - loss: 1.3136 - categorical_accuracy: 0.4810\n",
      "Epoch 99/500\n",
      "3/3 [==============================] - 0s 39ms/step - loss: 1.3005 - categorical_accuracy: 0.5190\n",
      "Epoch 100/500\n",
      "3/3 [==============================] - 0s 40ms/step - loss: 1.2900 - categorical_accuracy: 0.4557\n",
      "Epoch 101/500\n",
      "3/3 [==============================] - 0s 37ms/step - loss: 1.2705 - categorical_accuracy: 0.5063\n",
      "Epoch 102/500\n",
      "3/3 [==============================] - 0s 38ms/step - loss: 1.2593 - categorical_accuracy: 0.6203\n",
      "Epoch 103/500\n",
      "3/3 [==============================] - 0s 38ms/step - loss: 1.2325 - categorical_accuracy: 0.5696\n",
      "Epoch 104/500\n",
      "3/3 [==============================] - 0s 37ms/step - loss: 1.1887 - categorical_accuracy: 0.6076\n",
      "Epoch 105/500\n",
      "3/3 [==============================] - 0s 37ms/step - loss: 1.1271 - categorical_accuracy: 0.5570\n",
      "Epoch 106/500\n",
      "3/3 [==============================] - 0s 39ms/step - loss: 1.1744 - categorical_accuracy: 0.4430\n",
      "Epoch 107/500\n",
      "3/3 [==============================] - 0s 38ms/step - loss: 1.2169 - categorical_accuracy: 0.4684\n",
      "Epoch 108/500\n",
      "3/3 [==============================] - 0s 44ms/step - loss: 1.3966 - categorical_accuracy: 0.3924\n",
      "Epoch 109/500\n",
      "3/3 [==============================] - 0s 54ms/step - loss: 1.3067 - categorical_accuracy: 0.4304\n",
      "Epoch 110/500\n",
      "3/3 [==============================] - 0s 35ms/step - loss: 1.2324 - categorical_accuracy: 0.3544\n",
      "Epoch 111/500\n",
      "3/3 [==============================] - 0s 36ms/step - loss: 1.2597 - categorical_accuracy: 0.4937\n",
      "Epoch 112/500\n",
      "3/3 [==============================] - 0s 35ms/step - loss: 1.1808 - categorical_accuracy: 0.4810\n",
      "Epoch 113/500\n",
      "3/3 [==============================] - 0s 42ms/step - loss: 1.2151 - categorical_accuracy: 0.3797\n",
      "Epoch 114/500\n",
      "3/3 [==============================] - 0s 61ms/step - loss: 1.1395 - categorical_accuracy: 0.5190\n",
      "Epoch 115/500\n",
      "3/3 [==============================] - 0s 42ms/step - loss: 1.1151 - categorical_accuracy: 0.5949\n",
      "Epoch 116/500\n",
      "3/3 [==============================] - 0s 38ms/step - loss: 1.1227 - categorical_accuracy: 0.5063\n",
      "Epoch 117/500\n",
      "3/3 [==============================] - 0s 38ms/step - loss: 1.0980 - categorical_accuracy: 0.5063\n",
      "Epoch 118/500\n",
      "3/3 [==============================] - 0s 41ms/step - loss: 1.0493 - categorical_accuracy: 0.5823\n",
      "Epoch 119/500\n",
      "3/3 [==============================] - 0s 45ms/step - loss: 1.0063 - categorical_accuracy: 0.4937\n",
      "Epoch 120/500\n",
      "3/3 [==============================] - 0s 43ms/step - loss: 0.9712 - categorical_accuracy: 0.5696\n",
      "Epoch 121/500\n",
      "3/3 [==============================] - 0s 38ms/step - loss: 1.0497 - categorical_accuracy: 0.4810\n",
      "Epoch 122/500\n",
      "3/3 [==============================] - 0s 46ms/step - loss: 1.1459 - categorical_accuracy: 0.4304\n",
      "Epoch 123/500\n",
      "3/3 [==============================] - 0s 45ms/step - loss: 1.5567 - categorical_accuracy: 0.3797\n",
      "Epoch 124/500\n",
      "3/3 [==============================] - 0s 48ms/step - loss: 1.5187 - categorical_accuracy: 0.4557\n",
      "Epoch 125/500\n",
      "3/3 [==============================] - 0s 44ms/step - loss: 1.1859 - categorical_accuracy: 0.4810\n",
      "Epoch 126/500\n",
      "3/3 [==============================] - 0s 42ms/step - loss: 1.2587 - categorical_accuracy: 0.3544\n",
      "Epoch 127/500\n",
      "3/3 [==============================] - 0s 44ms/step - loss: 1.2128 - categorical_accuracy: 0.3418\n",
      "Epoch 128/500\n",
      "3/3 [==============================] - 0s 43ms/step - loss: 1.2350 - categorical_accuracy: 0.4684\n",
      "Epoch 129/500\n",
      "3/3 [==============================] - 0s 39ms/step - loss: 1.1949 - categorical_accuracy: 0.3797\n",
      "Epoch 130/500\n",
      "3/3 [==============================] - 0s 39ms/step - loss: 1.2010 - categorical_accuracy: 0.5063\n",
      "Epoch 131/500\n",
      "3/3 [==============================] - 0s 44ms/step - loss: 1.1780 - categorical_accuracy: 0.5316\n",
      "Epoch 132/500\n",
      "3/3 [==============================] - 0s 44ms/step - loss: 1.1426 - categorical_accuracy: 0.5823\n",
      "Epoch 133/500\n",
      "3/3 [==============================] - 0s 44ms/step - loss: 1.1560 - categorical_accuracy: 0.3797\n",
      "Epoch 134/500\n",
      "3/3 [==============================] - 0s 41ms/step - loss: 1.1034 - categorical_accuracy: 0.6329\n",
      "Epoch 135/500\n",
      "3/3 [==============================] - 0s 42ms/step - loss: 1.0905 - categorical_accuracy: 0.5316\n",
      "Epoch 136/500\n",
      "3/3 [==============================] - 0s 41ms/step - loss: 1.0338 - categorical_accuracy: 0.5190\n",
      "Epoch 137/500\n",
      "3/3 [==============================] - 0s 44ms/step - loss: 0.9977 - categorical_accuracy: 0.4810\n",
      "Epoch 138/500\n",
      "3/3 [==============================] - 0s 44ms/step - loss: 0.9805 - categorical_accuracy: 0.5443\n",
      "Epoch 139/500\n",
      "3/3 [==============================] - 0s 47ms/step - loss: 1.0223 - categorical_accuracy: 0.5570\n",
      "Epoch 140/500\n",
      "3/3 [==============================] - 0s 43ms/step - loss: 0.9799 - categorical_accuracy: 0.4937\n",
      "Epoch 141/500\n",
      "3/3 [==============================] - 0s 42ms/step - loss: 1.1475 - categorical_accuracy: 0.4937\n",
      "Epoch 142/500\n",
      "3/3 [==============================] - 0s 41ms/step - loss: 1.1312 - categorical_accuracy: 0.4304\n",
      "Epoch 143/500\n",
      "3/3 [==============================] - 0s 44ms/step - loss: 0.9993 - categorical_accuracy: 0.5696\n",
      "Epoch 144/500\n",
      "3/3 [==============================] - 0s 38ms/step - loss: 0.9606 - categorical_accuracy: 0.5316\n",
      "Epoch 145/500\n",
      "3/3 [==============================] - 0s 39ms/step - loss: 0.9934 - categorical_accuracy: 0.5063\n",
      "Epoch 146/500\n",
      "3/3 [==============================] - 0s 38ms/step - loss: 0.8574 - categorical_accuracy: 0.5696\n",
      "Epoch 147/500\n",
      "3/3 [==============================] - 0s 39ms/step - loss: 0.9108 - categorical_accuracy: 0.4937\n",
      "Epoch 148/500\n",
      "3/3 [==============================] - 0s 37ms/step - loss: 0.8312 - categorical_accuracy: 0.6456\n",
      "Epoch 149/500\n",
      "3/3 [==============================] - 0s 37ms/step - loss: 0.8163 - categorical_accuracy: 0.6329\n",
      "Epoch 150/500\n",
      "3/3 [==============================] - 0s 36ms/step - loss: 0.7585 - categorical_accuracy: 0.7468\n",
      "Epoch 151/500\n",
      "3/3 [==============================] - 0s 38ms/step - loss: 0.7151 - categorical_accuracy: 0.7468\n",
      "Epoch 152/500\n",
      "3/3 [==============================] - 0s 40ms/step - loss: 0.6591 - categorical_accuracy: 0.7595\n",
      "Epoch 153/500\n",
      "3/3 [==============================] - 0s 36ms/step - loss: 0.9400 - categorical_accuracy: 0.4810\n",
      "Epoch 154/500\n",
      "3/3 [==============================] - 0s 40ms/step - loss: 1.1885 - categorical_accuracy: 0.5443\n",
      "Epoch 155/500\n",
      "3/3 [==============================] - 0s 37ms/step - loss: 1.2586 - categorical_accuracy: 0.5316\n",
      "Epoch 156/500\n",
      "3/3 [==============================] - 0s 40ms/step - loss: 1.0010 - categorical_accuracy: 0.5570\n",
      "Epoch 157/500\n",
      "3/3 [==============================] - 0s 37ms/step - loss: 0.9850 - categorical_accuracy: 0.6076\n",
      "Epoch 158/500\n",
      "3/3 [==============================] - 0s 38ms/step - loss: 0.9633 - categorical_accuracy: 0.4937\n",
      "Epoch 159/500\n",
      "3/3 [==============================] - 0s 37ms/step - loss: 0.8273 - categorical_accuracy: 0.6329\n",
      "Epoch 160/500\n",
      "3/3 [==============================] - 0s 38ms/step - loss: 0.8089 - categorical_accuracy: 0.7342\n",
      "Epoch 161/500\n",
      "3/3 [==============================] - 0s 38ms/step - loss: 0.7470 - categorical_accuracy: 0.6835\n",
      "Epoch 162/500\n",
      "3/3 [==============================] - 0s 38ms/step - loss: 0.7564 - categorical_accuracy: 0.7595\n",
      "Epoch 163/500\n",
      "3/3 [==============================] - 0s 36ms/step - loss: 0.8602 - categorical_accuracy: 0.5570\n",
      "Epoch 164/500\n",
      "3/3 [==============================] - 0s 40ms/step - loss: 0.6892 - categorical_accuracy: 0.6582\n",
      "Epoch 165/500\n",
      "3/3 [==============================] - 0s 36ms/step - loss: 0.6145 - categorical_accuracy: 0.7342\n",
      "Epoch 166/500\n",
      "3/3 [==============================] - 0s 37ms/step - loss: 0.6390 - categorical_accuracy: 0.7468\n",
      "Epoch 167/500\n",
      "3/3 [==============================] - 0s 41ms/step - loss: 0.8408 - categorical_accuracy: 0.7595\n",
      "Epoch 168/500\n",
      "3/3 [==============================] - 0s 38ms/step - loss: 0.9593 - categorical_accuracy: 0.6329\n",
      "Epoch 169/500\n",
      "3/3 [==============================] - 0s 38ms/step - loss: 1.5464 - categorical_accuracy: 0.3924\n",
      "Epoch 170/500\n",
      "3/3 [==============================] - 0s 37ms/step - loss: 0.9555 - categorical_accuracy: 0.5823\n",
      "Epoch 171/500\n",
      "3/3 [==============================] - 0s 38ms/step - loss: 0.9844 - categorical_accuracy: 0.5570\n",
      "Epoch 172/500\n",
      "3/3 [==============================] - 0s 37ms/step - loss: 0.7274 - categorical_accuracy: 0.7595\n",
      "Epoch 173/500\n",
      "3/3 [==============================] - 0s 41ms/step - loss: 0.7498 - categorical_accuracy: 0.7215\n",
      "Epoch 174/500\n",
      "3/3 [==============================] - 0s 37ms/step - loss: 0.7091 - categorical_accuracy: 0.6962\n",
      "Epoch 175/500\n",
      "3/3 [==============================] - 0s 41ms/step - loss: 0.6447 - categorical_accuracy: 0.7595\n",
      "Epoch 176/500\n",
      "3/3 [==============================] - 0s 38ms/step - loss: 0.6626 - categorical_accuracy: 0.6582\n",
      "Epoch 177/500\n",
      "3/3 [==============================] - 0s 40ms/step - loss: 0.5248 - categorical_accuracy: 0.7342\n",
      "Epoch 178/500\n",
      "3/3 [==============================] - 0s 38ms/step - loss: 0.4245 - categorical_accuracy: 0.9114\n",
      "Epoch 179/500\n",
      "3/3 [==============================] - 0s 38ms/step - loss: 0.4598 - categorical_accuracy: 0.8228\n",
      "Epoch 180/500\n",
      "3/3 [==============================] - 0s 39ms/step - loss: 1.5251 - categorical_accuracy: 0.4304\n",
      "Epoch 181/500\n",
      "3/3 [==============================] - 0s 39ms/step - loss: 1.0464 - categorical_accuracy: 0.6456\n",
      "Epoch 182/500\n",
      "3/3 [==============================] - 0s 37ms/step - loss: 1.3773 - categorical_accuracy: 0.4177\n",
      "Epoch 183/500\n",
      "3/3 [==============================] - 0s 39ms/step - loss: 0.7767 - categorical_accuracy: 0.6456\n",
      "Epoch 184/500\n",
      "3/3 [==============================] - 0s 40ms/step - loss: 0.8734 - categorical_accuracy: 0.5570\n",
      "Epoch 185/500\n",
      "3/3 [==============================] - 0s 38ms/step - loss: 0.7826 - categorical_accuracy: 0.5190\n",
      "Epoch 186/500\n",
      "3/3 [==============================] - 0s 39ms/step - loss: 0.7604 - categorical_accuracy: 0.6835\n",
      "Epoch 187/500\n",
      "3/3 [==============================] - 0s 40ms/step - loss: 0.7774 - categorical_accuracy: 0.6962\n",
      "Epoch 188/500\n",
      "3/3 [==============================] - 0s 32ms/step - loss: 0.7559 - categorical_accuracy: 0.6203\n",
      "Epoch 189/500\n",
      "3/3 [==============================] - 0s 37ms/step - loss: 0.7046 - categorical_accuracy: 0.6456\n",
      "Epoch 190/500\n",
      "3/3 [==============================] - 0s 37ms/step - loss: 0.6250 - categorical_accuracy: 0.8354\n",
      "Epoch 191/500\n",
      "3/3 [==============================] - 0s 41ms/step - loss: 0.5902 - categorical_accuracy: 0.6962\n",
      "Epoch 192/500\n",
      "3/3 [==============================] - 0s 40ms/step - loss: 0.5684 - categorical_accuracy: 0.6835\n",
      "Epoch 193/500\n",
      "3/3 [==============================] - 0s 37ms/step - loss: 0.5481 - categorical_accuracy: 0.6962\n",
      "Epoch 194/500\n",
      "3/3 [==============================] - 0s 36ms/step - loss: 0.5118 - categorical_accuracy: 0.8228\n",
      "Epoch 195/500\n",
      "3/3 [==============================] - 0s 38ms/step - loss: 0.5036 - categorical_accuracy: 0.7722\n",
      "Epoch 196/500\n",
      "3/3 [==============================] - 0s 37ms/step - loss: 0.4528 - categorical_accuracy: 0.8608\n",
      "Epoch 197/500\n",
      "3/3 [==============================] - 0s 36ms/step - loss: 0.5444 - categorical_accuracy: 0.7342\n",
      "Epoch 198/500\n",
      "3/3 [==============================] - 0s 39ms/step - loss: 0.5556 - categorical_accuracy: 0.7722\n",
      "Epoch 199/500\n",
      "3/3 [==============================] - 0s 41ms/step - loss: 0.4789 - categorical_accuracy: 0.7722\n",
      "Epoch 200/500\n",
      "3/3 [==============================] - 0s 54ms/step - loss: 0.4774 - categorical_accuracy: 0.8481\n",
      "Epoch 201/500\n",
      "3/3 [==============================] - 0s 42ms/step - loss: 0.4240 - categorical_accuracy: 0.8354\n",
      "Epoch 202/500\n",
      "3/3 [==============================] - 0s 43ms/step - loss: 0.3648 - categorical_accuracy: 0.8987\n",
      "Epoch 203/500\n",
      "3/3 [==============================] - 0s 42ms/step - loss: 0.4146 - categorical_accuracy: 0.8987\n",
      "Epoch 204/500\n",
      "3/3 [==============================] - 0s 42ms/step - loss: 0.3785 - categorical_accuracy: 0.8354\n",
      "Epoch 205/500\n",
      "3/3 [==============================] - 0s 38ms/step - loss: 0.3519 - categorical_accuracy: 0.8608\n",
      "Epoch 206/500\n",
      "3/3 [==============================] - 0s 39ms/step - loss: 0.3028 - categorical_accuracy: 0.9114\n",
      "Epoch 207/500\n",
      "3/3 [==============================] - 0s 41ms/step - loss: 0.3326 - categorical_accuracy: 0.8734\n",
      "Epoch 208/500\n",
      "3/3 [==============================] - 0s 40ms/step - loss: 0.2584 - categorical_accuracy: 0.9494\n",
      "Epoch 209/500\n",
      "3/3 [==============================] - 0s 40ms/step - loss: 0.3504 - categorical_accuracy: 0.8987\n",
      "Epoch 210/500\n",
      "3/3 [==============================] - 0s 40ms/step - loss: 0.4020 - categorical_accuracy: 0.8228\n",
      "Epoch 211/500\n",
      "3/3 [==============================] - 0s 39ms/step - loss: 0.6878 - categorical_accuracy: 0.7215\n",
      "Epoch 212/500\n",
      "3/3 [==============================] - 0s 41ms/step - loss: 0.5473 - categorical_accuracy: 0.7595\n",
      "Epoch 213/500\n",
      "3/3 [==============================] - 0s 42ms/step - loss: 0.8173 - categorical_accuracy: 0.7215\n",
      "Epoch 214/500\n",
      "3/3 [==============================] - 0s 37ms/step - loss: 0.5370 - categorical_accuracy: 0.6456\n",
      "Epoch 215/500\n",
      "3/3 [==============================] - 0s 40ms/step - loss: 0.5744 - categorical_accuracy: 0.7468\n",
      "Epoch 216/500\n",
      "3/3 [==============================] - 0s 38ms/step - loss: 0.5497 - categorical_accuracy: 0.7848\n",
      "Epoch 217/500\n",
      "3/3 [==============================] - 0s 40ms/step - loss: 0.4492 - categorical_accuracy: 0.7848\n",
      "Epoch 218/500\n",
      "3/3 [==============================] - 0s 37ms/step - loss: 0.4482 - categorical_accuracy: 0.8354\n",
      "Epoch 219/500\n",
      "3/3 [==============================] - 0s 37ms/step - loss: 0.3456 - categorical_accuracy: 0.8987\n",
      "Epoch 220/500\n",
      "3/3 [==============================] - 0s 40ms/step - loss: 0.3445 - categorical_accuracy: 0.8481\n",
      "Epoch 221/500\n",
      "3/3 [==============================] - 0s 42ms/step - loss: 0.2690 - categorical_accuracy: 0.9620\n",
      "Epoch 222/500\n",
      "3/3 [==============================] - 0s 40ms/step - loss: 0.2883 - categorical_accuracy: 0.8861\n",
      "Epoch 223/500\n",
      "3/3 [==============================] - 0s 38ms/step - loss: 0.2146 - categorical_accuracy: 1.0000\n",
      "Epoch 224/500\n",
      "3/3 [==============================] - 0s 39ms/step - loss: 0.1701 - categorical_accuracy: 0.9241\n",
      "Epoch 225/500\n",
      "3/3 [==============================] - 0s 38ms/step - loss: 0.1334 - categorical_accuracy: 0.9620\n",
      "Epoch 226/500\n",
      "3/3 [==============================] - 0s 40ms/step - loss: 0.1157 - categorical_accuracy: 0.9873\n",
      "Epoch 227/500\n",
      "3/3 [==============================] - 0s 43ms/step - loss: 0.0890 - categorical_accuracy: 1.0000\n",
      "Epoch 228/500\n",
      "3/3 [==============================] - 0s 40ms/step - loss: 0.1014 - categorical_accuracy: 1.0000\n",
      "Epoch 229/500\n",
      "3/3 [==============================] - 0s 38ms/step - loss: 0.5437 - categorical_accuracy: 0.8608\n",
      "Epoch 230/500\n",
      "3/3 [==============================] - 0s 37ms/step - loss: 1.4258 - categorical_accuracy: 0.6329\n",
      "Epoch 231/500\n",
      "3/3 [==============================] - 0s 39ms/step - loss: 0.9326 - categorical_accuracy: 0.7215\n",
      "Epoch 232/500\n",
      "3/3 [==============================] - 0s 39ms/step - loss: 0.9407 - categorical_accuracy: 0.5570\n",
      "Epoch 233/500\n",
      "3/3 [==============================] - 0s 37ms/step - loss: 0.5289 - categorical_accuracy: 0.8608\n",
      "Epoch 234/500\n",
      "3/3 [==============================] - 0s 37ms/step - loss: 0.6359 - categorical_accuracy: 0.8228\n",
      "Epoch 235/500\n",
      "3/3 [==============================] - 0s 36ms/step - loss: 0.6461 - categorical_accuracy: 0.7848\n",
      "Epoch 236/500\n",
      "3/3 [==============================] - 0s 40ms/step - loss: 0.5764 - categorical_accuracy: 0.7975\n",
      "Epoch 237/500\n",
      "3/3 [==============================] - 0s 37ms/step - loss: 0.5689 - categorical_accuracy: 0.8354\n",
      "Epoch 238/500\n",
      "3/3 [==============================] - 0s 37ms/step - loss: 0.5003 - categorical_accuracy: 0.8861\n",
      "Epoch 239/500\n",
      "3/3 [==============================] - 0s 37ms/step - loss: 0.4361 - categorical_accuracy: 0.8987\n",
      "Epoch 240/500\n",
      "3/3 [==============================] - 0s 40ms/step - loss: 0.4176 - categorical_accuracy: 0.8861\n",
      "Epoch 241/500\n",
      "3/3 [==============================] - 0s 39ms/step - loss: 0.3428 - categorical_accuracy: 0.9241\n",
      "Epoch 242/500\n",
      "3/3 [==============================] - 0s 38ms/step - loss: 0.3279 - categorical_accuracy: 0.8987\n",
      "Epoch 243/500\n",
      "3/3 [==============================] - 0s 40ms/step - loss: 0.2834 - categorical_accuracy: 0.9494\n",
      "Epoch 244/500\n",
      "3/3 [==============================] - 0s 37ms/step - loss: 0.2446 - categorical_accuracy: 0.9367\n",
      "Epoch 245/500\n",
      "3/3 [==============================] - 0s 39ms/step - loss: 0.2123 - categorical_accuracy: 0.9494\n",
      "Epoch 246/500\n",
      "3/3 [==============================] - 0s 40ms/step - loss: 0.2312 - categorical_accuracy: 0.8987\n",
      "Epoch 247/500\n",
      "3/3 [==============================] - 0s 38ms/step - loss: 0.2948 - categorical_accuracy: 0.8987\n",
      "Epoch 248/500\n",
      "3/3 [==============================] - 0s 36ms/step - loss: 0.2823 - categorical_accuracy: 0.8481\n",
      "Epoch 249/500\n",
      "3/3 [==============================] - 0s 37ms/step - loss: 0.2786 - categorical_accuracy: 0.8861\n",
      "Epoch 250/500\n",
      "3/3 [==============================] - 0s 38ms/step - loss: 0.3621 - categorical_accuracy: 0.8481\n",
      "Epoch 251/500\n",
      "3/3 [==============================] - 0s 42ms/step - loss: 0.3135 - categorical_accuracy: 0.8481\n",
      "Epoch 252/500\n",
      "3/3 [==============================] - 0s 38ms/step - loss: 0.4650 - categorical_accuracy: 0.7975\n",
      "Epoch 253/500\n",
      "3/3 [==============================] - 0s 41ms/step - loss: 0.3131 - categorical_accuracy: 0.8354\n",
      "Epoch 254/500\n",
      "3/3 [==============================] - 0s 38ms/step - loss: 0.1691 - categorical_accuracy: 0.9494\n",
      "Epoch 255/500\n",
      "3/3 [==============================] - 0s 40ms/step - loss: 0.2118 - categorical_accuracy: 0.8861\n",
      "Epoch 256/500\n",
      "3/3 [==============================] - 0s 38ms/step - loss: 0.1556 - categorical_accuracy: 0.9494\n",
      "Epoch 257/500\n",
      "3/3 [==============================] - 0s 38ms/step - loss: 0.1222 - categorical_accuracy: 1.0000\n",
      "Epoch 258/500\n",
      "3/3 [==============================] - 0s 38ms/step - loss: 0.1719 - categorical_accuracy: 0.8987\n",
      "Epoch 259/500\n",
      "3/3 [==============================] - 0s 39ms/step - loss: 0.1041 - categorical_accuracy: 0.9873\n",
      "Epoch 260/500\n",
      "3/3 [==============================] - 0s 36ms/step - loss: 0.1291 - categorical_accuracy: 0.9367\n",
      "Epoch 261/500\n",
      "3/3 [==============================] - 0s 36ms/step - loss: 0.1279 - categorical_accuracy: 0.9241\n",
      "Epoch 262/500\n",
      "3/3 [==============================] - 0s 37ms/step - loss: 0.1086 - categorical_accuracy: 0.9747\n",
      "Epoch 263/500\n",
      "3/3 [==============================] - 0s 39ms/step - loss: 0.0783 - categorical_accuracy: 1.0000\n",
      "Epoch 264/500\n",
      "3/3 [==============================] - 0s 40ms/step - loss: 0.0744 - categorical_accuracy: 1.0000\n",
      "Epoch 265/500\n",
      "3/3 [==============================] - 0s 41ms/step - loss: 0.0631 - categorical_accuracy: 0.9873\n",
      "Epoch 266/500\n",
      "3/3 [==============================] - 0s 38ms/step - loss: 0.0520 - categorical_accuracy: 1.0000\n",
      "Epoch 267/500\n",
      "3/3 [==============================] - 0s 39ms/step - loss: 0.0505 - categorical_accuracy: 1.0000\n",
      "Epoch 268/500\n",
      "3/3 [==============================] - 0s 39ms/step - loss: 0.0393 - categorical_accuracy: 1.0000\n",
      "Epoch 269/500\n",
      "3/3 [==============================] - 0s 37ms/step - loss: 0.0291 - categorical_accuracy: 1.0000\n",
      "Epoch 270/500\n",
      "3/3 [==============================] - 0s 38ms/step - loss: 0.0226 - categorical_accuracy: 1.0000\n",
      "Epoch 271/500\n",
      "3/3 [==============================] - 0s 39ms/step - loss: 0.0197 - categorical_accuracy: 1.0000\n",
      "Epoch 272/500\n",
      "3/3 [==============================] - 0s 38ms/step - loss: 0.0177 - categorical_accuracy: 1.0000\n",
      "Epoch 273/500\n",
      "3/3 [==============================] - 0s 37ms/step - loss: 0.0129 - categorical_accuracy: 1.0000\n",
      "Epoch 274/500\n",
      "3/3 [==============================] - 0s 39ms/step - loss: 0.0101 - categorical_accuracy: 1.0000\n",
      "Epoch 275/500\n",
      "3/3 [==============================] - 0s 44ms/step - loss: 0.0081 - categorical_accuracy: 1.0000\n",
      "Epoch 276/500\n",
      "3/3 [==============================] - 0s 37ms/step - loss: 0.0070 - categorical_accuracy: 1.0000\n",
      "Epoch 277/500\n",
      "3/3 [==============================] - 0s 39ms/step - loss: 0.0065 - categorical_accuracy: 1.0000\n",
      "Epoch 278/500\n",
      "3/3 [==============================] - 0s 38ms/step - loss: 0.0046 - categorical_accuracy: 1.0000\n",
      "Epoch 279/500\n",
      "3/3 [==============================] - 0s 38ms/step - loss: 0.0046 - categorical_accuracy: 1.0000\n",
      "Epoch 280/500\n",
      "3/3 [==============================] - 0s 36ms/step - loss: 0.0040 - categorical_accuracy: 1.0000\n",
      "Epoch 281/500\n",
      "3/3 [==============================] - 0s 37ms/step - loss: 0.0031 - categorical_accuracy: 1.0000\n",
      "Epoch 282/500\n",
      "3/3 [==============================] - 0s 39ms/step - loss: 0.0032 - categorical_accuracy: 1.0000\n",
      "Epoch 283/500\n",
      "3/3 [==============================] - 0s 40ms/step - loss: 0.0026 - categorical_accuracy: 1.0000\n",
      "Epoch 284/500\n",
      "3/3 [==============================] - 0s 34ms/step - loss: 0.0025 - categorical_accuracy: 1.0000\n",
      "Epoch 285/500\n",
      "3/3 [==============================] - 0s 36ms/step - loss: 0.0023 - categorical_accuracy: 1.0000\n",
      "Epoch 286/500\n",
      "3/3 [==============================] - 0s 41ms/step - loss: 0.0019 - categorical_accuracy: 1.0000\n",
      "Epoch 287/500\n",
      "3/3 [==============================] - 0s 37ms/step - loss: 0.0018 - categorical_accuracy: 1.0000\n",
      "Epoch 288/500\n",
      "3/3 [==============================] - 0s 39ms/step - loss: 0.0018 - categorical_accuracy: 1.0000\n",
      "Epoch 289/500\n",
      "3/3 [==============================] - 0s 36ms/step - loss: 0.0016 - categorical_accuracy: 1.0000\n",
      "Epoch 290/500\n",
      "3/3 [==============================] - 0s 41ms/step - loss: 0.0015 - categorical_accuracy: 1.0000\n",
      "Epoch 291/500\n",
      "3/3 [==============================] - 0s 40ms/step - loss: 0.0015 - categorical_accuracy: 1.0000\n",
      "Epoch 292/500\n",
      "3/3 [==============================] - 0s 36ms/step - loss: 0.0014 - categorical_accuracy: 1.0000\n",
      "Epoch 293/500\n",
      "3/3 [==============================] - 0s 36ms/step - loss: 0.0013 - categorical_accuracy: 1.0000\n",
      "Epoch 294/500\n",
      "3/3 [==============================] - 0s 40ms/step - loss: 0.0012 - categorical_accuracy: 1.0000\n",
      "Epoch 295/500\n",
      "3/3 [==============================] - 0s 52ms/step - loss: 0.0012 - categorical_accuracy: 1.0000\n",
      "Epoch 296/500\n",
      "3/3 [==============================] - 0s 40ms/step - loss: 0.0011 - categorical_accuracy: 1.0000\n",
      "Epoch 297/500\n",
      "3/3 [==============================] - 0s 38ms/step - loss: 0.0011 - categorical_accuracy: 1.0000\n",
      "Epoch 298/500\n",
      "3/3 [==============================] - 0s 33ms/step - loss: 0.0010 - categorical_accuracy: 1.0000\n",
      "Epoch 299/500\n",
      "3/3 [==============================] - 0s 45ms/step - loss: 9.9297e-04 - categorical_accuracy: 1.0000\n",
      "Epoch 300/500\n",
      "3/3 [==============================] - 0s 38ms/step - loss: 9.5838e-04 - categorical_accuracy: 1.0000\n",
      "Epoch 301/500\n",
      "3/3 [==============================] - 0s 39ms/step - loss: 9.0897e-04 - categorical_accuracy: 1.0000\n",
      "Epoch 302/500\n",
      "3/3 [==============================] - 0s 38ms/step - loss: 8.8392e-04 - categorical_accuracy: 1.0000\n",
      "Epoch 303/500\n",
      "3/3 [==============================] - 0s 39ms/step - loss: 8.4336e-04 - categorical_accuracy: 1.0000\n",
      "Epoch 304/500\n",
      "3/3 [==============================] - 0s 38ms/step - loss: 8.1632e-04 - categorical_accuracy: 1.0000\n",
      "Epoch 305/500\n",
      "3/3 [==============================] - 0s 39ms/step - loss: 7.7906e-04 - categorical_accuracy: 1.0000\n",
      "Epoch 306/500\n",
      "3/3 [==============================] - 0s 39ms/step - loss: 7.5655e-04 - categorical_accuracy: 1.0000\n",
      "Epoch 307/500\n",
      "3/3 [==============================] - 0s 39ms/step - loss: 7.3788e-04 - categorical_accuracy: 1.0000\n",
      "Epoch 308/500\n",
      "3/3 [==============================] - 0s 38ms/step - loss: 7.1606e-04 - categorical_accuracy: 1.0000\n",
      "Epoch 309/500\n",
      "3/3 [==============================] - 0s 40ms/step - loss: 6.7889e-04 - categorical_accuracy: 1.0000\n",
      "Epoch 310/500\n",
      "3/3 [==============================] - 0s 38ms/step - loss: 6.6368e-04 - categorical_accuracy: 1.0000\n",
      "Epoch 311/500\n",
      "3/3 [==============================] - 0s 38ms/step - loss: 6.4242e-04 - categorical_accuracy: 1.0000\n",
      "Epoch 312/500\n",
      "3/3 [==============================] - 0s 37ms/step - loss: 6.1966e-04 - categorical_accuracy: 1.0000\n",
      "Epoch 313/500\n",
      "3/3 [==============================] - 0s 38ms/step - loss: 6.0304e-04 - categorical_accuracy: 1.0000\n",
      "Epoch 314/500\n",
      "3/3 [==============================] - 0s 39ms/step - loss: 5.8143e-04 - categorical_accuracy: 1.0000\n",
      "Epoch 315/500\n",
      "3/3 [==============================] - 0s 38ms/step - loss: 5.6598e-04 - categorical_accuracy: 1.0000\n",
      "Epoch 316/500\n",
      "3/3 [==============================] - 0s 38ms/step - loss: 5.5215e-04 - categorical_accuracy: 1.0000\n",
      "Epoch 317/500\n",
      "3/3 [==============================] - 0s 39ms/step - loss: 5.4182e-04 - categorical_accuracy: 1.0000\n",
      "Epoch 318/500\n",
      "3/3 [==============================] - 0s 40ms/step - loss: 5.2527e-04 - categorical_accuracy: 1.0000\n",
      "Epoch 319/500\n",
      "3/3 [==============================] - 0s 37ms/step - loss: 5.1256e-04 - categorical_accuracy: 1.0000\n",
      "Epoch 320/500\n",
      "3/3 [==============================] - 0s 39ms/step - loss: 4.9751e-04 - categorical_accuracy: 1.0000\n",
      "Epoch 321/500\n",
      "3/3 [==============================] - 0s 38ms/step - loss: 4.8242e-04 - categorical_accuracy: 1.0000\n",
      "Epoch 322/500\n",
      "3/3 [==============================] - 0s 40ms/step - loss: 4.7126e-04 - categorical_accuracy: 1.0000\n",
      "Epoch 323/500\n",
      "3/3 [==============================] - 0s 39ms/step - loss: 4.6058e-04 - categorical_accuracy: 1.0000\n",
      "Epoch 324/500\n",
      "3/3 [==============================] - 0s 39ms/step - loss: 4.4890e-04 - categorical_accuracy: 1.0000\n",
      "Epoch 325/500\n",
      "3/3 [==============================] - 0s 38ms/step - loss: 4.3811e-04 - categorical_accuracy: 1.0000\n",
      "Epoch 326/500\n",
      "3/3 [==============================] - 0s 40ms/step - loss: 4.3046e-04 - categorical_accuracy: 1.0000\n",
      "Epoch 327/500\n",
      "3/3 [==============================] - 0s 38ms/step - loss: 4.1960e-04 - categorical_accuracy: 1.0000\n",
      "Epoch 328/500\n",
      "3/3 [==============================] - 0s 39ms/step - loss: 4.1997e-04 - categorical_accuracy: 1.0000\n",
      "Epoch 329/500\n",
      "3/3 [==============================] - 0s 40ms/step - loss: 4.0659e-04 - categorical_accuracy: 1.0000\n",
      "Epoch 330/500\n",
      "3/3 [==============================] - 0s 39ms/step - loss: 3.9559e-04 - categorical_accuracy: 1.0000\n",
      "Epoch 331/500\n",
      "3/3 [==============================] - 0s 40ms/step - loss: 3.8224e-04 - categorical_accuracy: 1.0000\n",
      "Epoch 332/500\n",
      "3/3 [==============================] - 0s 39ms/step - loss: 3.7437e-04 - categorical_accuracy: 1.0000\n",
      "Epoch 333/500\n",
      "3/3 [==============================] - 0s 32ms/step - loss: 3.6744e-04 - categorical_accuracy: 1.0000\n",
      "Epoch 334/500\n",
      "3/3 [==============================] - 0s 37ms/step - loss: 3.6060e-04 - categorical_accuracy: 1.0000\n",
      "Epoch 335/500\n",
      "3/3 [==============================] - 0s 38ms/step - loss: 3.5409e-04 - categorical_accuracy: 1.0000\n",
      "Epoch 336/500\n",
      "3/3 [==============================] - 0s 39ms/step - loss: 3.4372e-04 - categorical_accuracy: 1.0000\n",
      "Epoch 337/500\n",
      "3/3 [==============================] - 0s 40ms/step - loss: 3.3382e-04 - categorical_accuracy: 1.0000\n",
      "Epoch 338/500\n",
      "3/3 [==============================] - 0s 38ms/step - loss: 3.3074e-04 - categorical_accuracy: 1.0000\n",
      "Epoch 339/500\n",
      "3/3 [==============================] - 0s 31ms/step - loss: 3.2712e-04 - categorical_accuracy: 1.0000\n",
      "Epoch 340/500\n",
      "3/3 [==============================] - 0s 38ms/step - loss: 3.2085e-04 - categorical_accuracy: 1.0000\n",
      "Epoch 341/500\n",
      "3/3 [==============================] - 0s 39ms/step - loss: 3.1154e-04 - categorical_accuracy: 1.0000\n",
      "Epoch 342/500\n",
      "3/3 [==============================] - 0s 38ms/step - loss: 3.0657e-04 - categorical_accuracy: 1.0000\n",
      "Epoch 343/500\n",
      "3/3 [==============================] - 0s 39ms/step - loss: 3.0099e-04 - categorical_accuracy: 1.0000\n",
      "Epoch 344/500\n",
      "3/3 [==============================] - 0s 41ms/step - loss: 2.9557e-04 - categorical_accuracy: 1.0000\n",
      "Epoch 345/500\n",
      "3/3 [==============================] - 0s 36ms/step - loss: 2.9012e-04 - categorical_accuracy: 1.0000\n",
      "Epoch 346/500\n",
      "3/3 [==============================] - 0s 40ms/step - loss: 2.8483e-04 - categorical_accuracy: 1.0000\n",
      "Epoch 347/500\n",
      "3/3 [==============================] - 0s 42ms/step - loss: 2.7818e-04 - categorical_accuracy: 1.0000\n",
      "Epoch 348/500\n",
      "3/3 [==============================] - 0s 35ms/step - loss: 2.7368e-04 - categorical_accuracy: 1.0000\n",
      "Epoch 349/500\n",
      "3/3 [==============================] - 0s 36ms/step - loss: 2.6937e-04 - categorical_accuracy: 1.0000\n",
      "Epoch 350/500\n",
      "3/3 [==============================] - 0s 37ms/step - loss: 2.6494e-04 - categorical_accuracy: 1.0000\n",
      "Epoch 351/500\n",
      "3/3 [==============================] - 0s 39ms/step - loss: 2.5972e-04 - categorical_accuracy: 1.0000\n",
      "Epoch 352/500\n",
      "3/3 [==============================] - 0s 36ms/step - loss: 2.5471e-04 - categorical_accuracy: 1.0000\n",
      "Epoch 353/500\n",
      "3/3 [==============================] - 0s 38ms/step - loss: 2.5182e-04 - categorical_accuracy: 1.0000\n",
      "Epoch 354/500\n",
      "3/3 [==============================] - 0s 42ms/step - loss: 2.4704e-04 - categorical_accuracy: 1.0000\n",
      "Epoch 355/500\n",
      "3/3 [==============================] - 0s 36ms/step - loss: 2.4221e-04 - categorical_accuracy: 1.0000\n",
      "Epoch 356/500\n",
      "3/3 [==============================] - 0s 38ms/step - loss: 2.3938e-04 - categorical_accuracy: 1.0000\n",
      "Epoch 357/500\n",
      "3/3 [==============================] - 0s 41ms/step - loss: 2.3446e-04 - categorical_accuracy: 1.0000\n",
      "Epoch 358/500\n",
      "3/3 [==============================] - 0s 38ms/step - loss: 2.3141e-04 - categorical_accuracy: 1.0000\n",
      "Epoch 359/500\n",
      "3/3 [==============================] - 0s 39ms/step - loss: 2.2872e-04 - categorical_accuracy: 1.0000\n",
      "Epoch 360/500\n",
      "3/3 [==============================] - 0s 36ms/step - loss: 2.2474e-04 - categorical_accuracy: 1.0000\n",
      "Epoch 361/500\n",
      "3/3 [==============================] - 0s 38ms/step - loss: 2.1984e-04 - categorical_accuracy: 1.0000\n",
      "Epoch 362/500\n",
      "3/3 [==============================] - 0s 41ms/step - loss: 2.1859e-04 - categorical_accuracy: 1.0000\n",
      "Epoch 363/500\n",
      "3/3 [==============================] - 0s 39ms/step - loss: 2.1543e-04 - categorical_accuracy: 1.0000\n",
      "Epoch 364/500\n",
      "3/3 [==============================] - 0s 37ms/step - loss: 2.1032e-04 - categorical_accuracy: 1.0000\n",
      "Epoch 365/500\n",
      "3/3 [==============================] - 0s 40ms/step - loss: 2.0707e-04 - categorical_accuracy: 1.0000\n",
      "Epoch 366/500\n",
      "3/3 [==============================] - 0s 38ms/step - loss: 2.0372e-04 - categorical_accuracy: 1.0000\n",
      "Epoch 367/500\n",
      "3/3 [==============================] - 0s 39ms/step - loss: 2.0095e-04 - categorical_accuracy: 1.0000\n",
      "Epoch 368/500\n",
      "3/3 [==============================] - 0s 38ms/step - loss: 1.9747e-04 - categorical_accuracy: 1.0000\n",
      "Epoch 369/500\n",
      "3/3 [==============================] - 0s 37ms/step - loss: 1.9480e-04 - categorical_accuracy: 1.0000\n",
      "Epoch 370/500\n",
      "3/3 [==============================] - 0s 39ms/step - loss: 1.9286e-04 - categorical_accuracy: 1.0000\n",
      "Epoch 371/500\n",
      "3/3 [==============================] - 0s 43ms/step - loss: 1.8934e-04 - categorical_accuracy: 1.0000\n",
      "Epoch 372/500\n",
      "3/3 [==============================] - 0s 36ms/step - loss: 1.8699e-04 - categorical_accuracy: 1.0000\n",
      "Epoch 373/500\n",
      "3/3 [==============================] - 0s 39ms/step - loss: 1.8516e-04 - categorical_accuracy: 1.0000\n",
      "Epoch 374/500\n",
      "3/3 [==============================] - 0s 38ms/step - loss: 1.8123e-04 - categorical_accuracy: 1.0000\n",
      "Epoch 375/500\n",
      "3/3 [==============================] - 0s 38ms/step - loss: 1.7865e-04 - categorical_accuracy: 1.0000\n",
      "Epoch 376/500\n",
      "3/3 [==============================] - 0s 38ms/step - loss: 1.7682e-04 - categorical_accuracy: 1.0000\n",
      "Epoch 377/500\n",
      "3/3 [==============================] - 0s 38ms/step - loss: 1.7430e-04 - categorical_accuracy: 1.0000\n",
      "Epoch 378/500\n",
      "3/3 [==============================] - 0s 39ms/step - loss: 1.7337e-04 - categorical_accuracy: 1.0000\n",
      "Epoch 379/500\n",
      "3/3 [==============================] - 0s 39ms/step - loss: 1.7129e-04 - categorical_accuracy: 1.0000\n",
      "Epoch 380/500\n",
      "3/3 [==============================] - 0s 38ms/step - loss: 1.6765e-04 - categorical_accuracy: 1.0000\n",
      "Epoch 381/500\n",
      "3/3 [==============================] - 0s 37ms/step - loss: 1.6580e-04 - categorical_accuracy: 1.0000\n",
      "Epoch 382/500\n",
      "3/3 [==============================] - 0s 40ms/step - loss: 1.6386e-04 - categorical_accuracy: 1.0000\n",
      "Epoch 383/500\n",
      "3/3 [==============================] - 0s 37ms/step - loss: 1.6119e-04 - categorical_accuracy: 1.0000\n",
      "Epoch 384/500\n",
      "3/3 [==============================] - 0s 46ms/step - loss: 1.5855e-04 - categorical_accuracy: 1.0000\n",
      "Epoch 385/500\n",
      "3/3 [==============================] - 0s 37ms/step - loss: 1.5657e-04 - categorical_accuracy: 1.0000\n",
      "Epoch 386/500\n",
      "3/3 [==============================] - 0s 32ms/step - loss: 1.5492e-04 - categorical_accuracy: 1.0000\n",
      "Epoch 387/500\n",
      "3/3 [==============================] - 0s 40ms/step - loss: 1.5376e-04 - categorical_accuracy: 1.0000\n",
      "Epoch 388/500\n",
      "3/3 [==============================] - 0s 36ms/step - loss: 1.5158e-04 - categorical_accuracy: 1.0000\n",
      "Epoch 389/500\n",
      "3/3 [==============================] - 0s 39ms/step - loss: 1.5017e-04 - categorical_accuracy: 1.0000\n",
      "Epoch 390/500\n",
      "3/3 [==============================] - 0s 39ms/step - loss: 1.4733e-04 - categorical_accuracy: 1.0000\n",
      "Epoch 391/500\n",
      "3/3 [==============================] - 0s 38ms/step - loss: 1.4500e-04 - categorical_accuracy: 1.0000\n",
      "Epoch 392/500\n",
      "3/3 [==============================] - 0s 34ms/step - loss: 1.4435e-04 - categorical_accuracy: 1.0000\n",
      "Epoch 393/500\n",
      "3/3 [==============================] - 0s 37ms/step - loss: 1.4208e-04 - categorical_accuracy: 1.0000\n",
      "Epoch 394/500\n",
      "3/3 [==============================] - 0s 42ms/step - loss: 1.4155e-04 - categorical_accuracy: 1.0000\n",
      "Epoch 395/500\n",
      "3/3 [==============================] - 0s 36ms/step - loss: 1.3936e-04 - categorical_accuracy: 1.0000\n",
      "Epoch 396/500\n",
      "3/3 [==============================] - 0s 40ms/step - loss: 1.3838e-04 - categorical_accuracy: 1.0000\n",
      "Epoch 397/500\n",
      "3/3 [==============================] - 0s 39ms/step - loss: 1.3601e-04 - categorical_accuracy: 1.0000\n",
      "Epoch 398/500\n",
      "3/3 [==============================] - 0s 41ms/step - loss: 1.3392e-04 - categorical_accuracy: 1.0000\n",
      "Epoch 399/500\n",
      "3/3 [==============================] - 0s 40ms/step - loss: 1.3199e-04 - categorical_accuracy: 1.0000\n",
      "Epoch 400/500\n",
      "3/3 [==============================] - 0s 37ms/step - loss: 1.3046e-04 - categorical_accuracy: 1.0000\n",
      "Epoch 401/500\n",
      "3/3 [==============================] - 0s 39ms/step - loss: 1.2865e-04 - categorical_accuracy: 1.0000\n",
      "Epoch 402/500\n",
      "3/3 [==============================] - 0s 41ms/step - loss: 1.2733e-04 - categorical_accuracy: 1.0000\n",
      "Epoch 403/500\n",
      "3/3 [==============================] - 0s 35ms/step - loss: 1.2554e-04 - categorical_accuracy: 1.0000\n",
      "Epoch 404/500\n",
      "3/3 [==============================] - 0s 39ms/step - loss: 1.2464e-04 - categorical_accuracy: 1.0000\n",
      "Epoch 405/500\n",
      "3/3 [==============================] - 0s 38ms/step - loss: 1.2262e-04 - categorical_accuracy: 1.0000\n",
      "Epoch 406/500\n",
      "3/3 [==============================] - 0s 39ms/step - loss: 1.2128e-04 - categorical_accuracy: 1.0000\n",
      "Epoch 407/500\n",
      "3/3 [==============================] - 0s 43ms/step - loss: 1.2033e-04 - categorical_accuracy: 1.0000\n",
      "Epoch 408/500\n",
      "3/3 [==============================] - 0s 38ms/step - loss: 1.1865e-04 - categorical_accuracy: 1.0000\n",
      "Epoch 409/500\n",
      "3/3 [==============================] - 0s 39ms/step - loss: 1.1709e-04 - categorical_accuracy: 1.0000\n",
      "Epoch 410/500\n",
      "3/3 [==============================] - 0s 42ms/step - loss: 1.1574e-04 - categorical_accuracy: 1.0000\n",
      "Epoch 411/500\n",
      "3/3 [==============================] - 0s 39ms/step - loss: 1.1527e-04 - categorical_accuracy: 1.0000\n",
      "Epoch 412/500\n",
      "3/3 [==============================] - 0s 32ms/step - loss: 1.1361e-04 - categorical_accuracy: 1.0000\n",
      "Epoch 413/500\n",
      "3/3 [==============================] - 0s 39ms/step - loss: 1.1233e-04 - categorical_accuracy: 1.0000\n",
      "Epoch 414/500\n",
      "3/3 [==============================] - 0s 37ms/step - loss: 1.1123e-04 - categorical_accuracy: 1.0000\n",
      "Epoch 415/500\n",
      "3/3 [==============================] - 0s 38ms/step - loss: 1.0981e-04 - categorical_accuracy: 1.0000\n",
      "Epoch 416/500\n",
      "3/3 [==============================] - 0s 37ms/step - loss: 1.0856e-04 - categorical_accuracy: 1.0000\n",
      "Epoch 417/500\n",
      "3/3 [==============================] - 0s 37ms/step - loss: 1.0755e-04 - categorical_accuracy: 1.0000\n",
      "Epoch 418/500\n",
      "3/3 [==============================] - 0s 45ms/step - loss: 1.0661e-04 - categorical_accuracy: 1.0000\n",
      "Epoch 419/500\n",
      "3/3 [==============================] - 0s 40ms/step - loss: 1.0530e-04 - categorical_accuracy: 1.0000\n",
      "Epoch 420/500\n",
      "3/3 [==============================] - 0s 41ms/step - loss: 1.0437e-04 - categorical_accuracy: 1.0000\n",
      "Epoch 421/500\n",
      "3/3 [==============================] - 0s 51ms/step - loss: 1.0309e-04 - categorical_accuracy: 1.0000\n",
      "Epoch 422/500\n",
      "3/3 [==============================] - 0s 47ms/step - loss: 1.0156e-04 - categorical_accuracy: 1.0000\n",
      "Epoch 423/500\n",
      "3/3 [==============================] - 0s 43ms/step - loss: 1.0092e-04 - categorical_accuracy: 1.0000\n",
      "Epoch 424/500\n",
      "3/3 [==============================] - 0s 43ms/step - loss: 9.9854e-05 - categorical_accuracy: 1.0000\n",
      "Epoch 425/500\n",
      "3/3 [==============================] - 0s 52ms/step - loss: 9.9077e-05 - categorical_accuracy: 1.0000\n",
      "Epoch 426/500\n",
      "3/3 [==============================] - 0s 49ms/step - loss: 9.8008e-05 - categorical_accuracy: 1.0000\n",
      "Epoch 427/500\n",
      "3/3 [==============================] - 0s 46ms/step - loss: 9.7406e-05 - categorical_accuracy: 1.0000\n",
      "Epoch 428/500\n",
      "3/3 [==============================] - 0s 41ms/step - loss: 9.6031e-05 - categorical_accuracy: 1.0000\n",
      "Epoch 429/500\n",
      "3/3 [==============================] - 0s 38ms/step - loss: 9.4588e-05 - categorical_accuracy: 1.0000\n",
      "Epoch 430/500\n",
      "3/3 [==============================] - 0s 39ms/step - loss: 9.3373e-05 - categorical_accuracy: 1.0000\n",
      "Epoch 431/500\n",
      "3/3 [==============================] - 0s 40ms/step - loss: 9.2399e-05 - categorical_accuracy: 1.0000\n",
      "Epoch 432/500\n",
      "3/3 [==============================] - 0s 41ms/step - loss: 9.1673e-05 - categorical_accuracy: 1.0000\n",
      "Epoch 433/500\n",
      "3/3 [==============================] - 0s 39ms/step - loss: 9.0641e-05 - categorical_accuracy: 1.0000\n",
      "Epoch 434/500\n",
      "3/3 [==============================] - 0s 37ms/step - loss: 8.9808e-05 - categorical_accuracy: 1.0000\n",
      "Epoch 435/500\n",
      "3/3 [==============================] - 0s 41ms/step - loss: 8.8752e-05 - categorical_accuracy: 1.0000\n",
      "Epoch 436/500\n",
      "3/3 [==============================] - 0s 44ms/step - loss: 8.7713e-05 - categorical_accuracy: 1.0000\n",
      "Epoch 437/500\n",
      "3/3 [==============================] - 0s 51ms/step - loss: 8.6836e-05 - categorical_accuracy: 1.0000\n",
      "Epoch 438/500\n",
      "3/3 [==============================] - 0s 48ms/step - loss: 8.6130e-05 - categorical_accuracy: 1.0000\n",
      "Epoch 439/500\n",
      "3/3 [==============================] - 0s 49ms/step - loss: 8.5020e-05 - categorical_accuracy: 1.0000\n",
      "Epoch 440/500\n",
      "3/3 [==============================] - 0s 57ms/step - loss: 8.4170e-05 - categorical_accuracy: 1.0000\n",
      "Epoch 441/500\n",
      "3/3 [==============================] - 0s 46ms/step - loss: 8.3305e-05 - categorical_accuracy: 1.0000\n",
      "Epoch 442/500\n",
      "3/3 [==============================] - 0s 49ms/step - loss: 8.2373e-05 - categorical_accuracy: 1.0000\n",
      "Epoch 443/500\n",
      "3/3 [==============================] - 0s 72ms/step - loss: 8.1626e-05 - categorical_accuracy: 1.0000\n",
      "Epoch 444/500\n",
      "3/3 [==============================] - 0s 55ms/step - loss: 8.0698e-05 - categorical_accuracy: 1.0000\n",
      "Epoch 445/500\n",
      "3/3 [==============================] - 0s 42ms/step - loss: 7.9935e-05 - categorical_accuracy: 1.0000\n",
      "Epoch 446/500\n",
      "3/3 [==============================] - 0s 47ms/step - loss: 7.9202e-05 - categorical_accuracy: 1.0000\n",
      "Epoch 447/500\n",
      "3/3 [==============================] - 0s 46ms/step - loss: 7.8294e-05 - categorical_accuracy: 1.0000\n",
      "Epoch 448/500\n",
      "3/3 [==============================] - 0s 45ms/step - loss: 7.7390e-05 - categorical_accuracy: 1.0000\n",
      "Epoch 449/500\n",
      "3/3 [==============================] - 0s 50ms/step - loss: 7.7264e-05 - categorical_accuracy: 1.0000\n",
      "Epoch 450/500\n",
      "3/3 [==============================] - 0s 44ms/step - loss: 7.6275e-05 - categorical_accuracy: 1.0000\n",
      "Epoch 451/500\n",
      "3/3 [==============================] - 0s 58ms/step - loss: 7.5854e-05 - categorical_accuracy: 1.0000\n",
      "Epoch 452/500\n",
      "3/3 [==============================] - 0s 49ms/step - loss: 7.5053e-05 - categorical_accuracy: 1.0000\n",
      "Epoch 453/500\n",
      "3/3 [==============================] - 0s 48ms/step - loss: 7.4137e-05 - categorical_accuracy: 1.0000\n",
      "Epoch 454/500\n",
      "3/3 [==============================] - 0s 51ms/step - loss: 7.3250e-05 - categorical_accuracy: 1.0000\n",
      "Epoch 455/500\n",
      "3/3 [==============================] - 0s 46ms/step - loss: 7.2665e-05 - categorical_accuracy: 1.0000\n",
      "Epoch 456/500\n",
      "3/3 [==============================] - 0s 57ms/step - loss: 7.1992e-05 - categorical_accuracy: 1.0000\n",
      "Epoch 457/500\n",
      "3/3 [==============================] - 0s 49ms/step - loss: 7.1229e-05 - categorical_accuracy: 1.0000\n",
      "Epoch 458/500\n",
      "3/3 [==============================] - 0s 51ms/step - loss: 7.0360e-05 - categorical_accuracy: 1.0000\n",
      "Epoch 459/500\n",
      "3/3 [==============================] - 0s 46ms/step - loss: 6.9951e-05 - categorical_accuracy: 1.0000\n",
      "Epoch 460/500\n",
      "3/3 [==============================] - 0s 40ms/step - loss: 6.9466e-05 - categorical_accuracy: 1.0000\n",
      "Epoch 461/500\n",
      "3/3 [==============================] - 0s 51ms/step - loss: 6.8950e-05 - categorical_accuracy: 1.0000\n",
      "Epoch 462/500\n",
      "3/3 [==============================] - 0s 44ms/step - loss: 6.8326e-05 - categorical_accuracy: 1.0000\n",
      "Epoch 463/500\n",
      "3/3 [==============================] - 0s 41ms/step - loss: 6.7639e-05 - categorical_accuracy: 1.0000\n",
      "Epoch 464/500\n",
      "3/3 [==============================] - 0s 33ms/step - loss: 6.6885e-05 - categorical_accuracy: 1.0000\n",
      "Epoch 465/500\n",
      "3/3 [==============================] - 0s 41ms/step - loss: 6.6268e-05 - categorical_accuracy: 1.0000\n",
      "Epoch 466/500\n",
      "3/3 [==============================] - 0s 38ms/step - loss: 6.5740e-05 - categorical_accuracy: 1.0000\n",
      "Epoch 467/500\n",
      "3/3 [==============================] - 0s 41ms/step - loss: 6.4994e-05 - categorical_accuracy: 1.0000\n",
      "Epoch 468/500\n",
      "3/3 [==============================] - 0s 37ms/step - loss: 6.4413e-05 - categorical_accuracy: 1.0000\n",
      "Epoch 469/500\n",
      "3/3 [==============================] - 0s 40ms/step - loss: 6.3755e-05 - categorical_accuracy: 1.0000\n",
      "Epoch 470/500\n",
      "3/3 [==============================] - 0s 39ms/step - loss: 6.3287e-05 - categorical_accuracy: 1.0000\n",
      "Epoch 471/500\n",
      "3/3 [==============================] - 0s 37ms/step - loss: 6.2747e-05 - categorical_accuracy: 1.0000\n",
      "Epoch 472/500\n",
      "3/3 [==============================] - 0s 39ms/step - loss: 6.2002e-05 - categorical_accuracy: 1.0000\n",
      "Epoch 473/500\n",
      "3/3 [==============================] - 0s 37ms/step - loss: 6.1756e-05 - categorical_accuracy: 1.0000\n",
      "Epoch 474/500\n",
      "3/3 [==============================] - 0s 37ms/step - loss: 6.1371e-05 - categorical_accuracy: 1.0000\n",
      "Epoch 475/500\n",
      "3/3 [==============================] - 0s 38ms/step - loss: 6.0675e-05 - categorical_accuracy: 1.0000\n",
      "Epoch 476/500\n",
      "3/3 [==============================] - 0s 39ms/step - loss: 6.0126e-05 - categorical_accuracy: 1.0000\n",
      "Epoch 477/500\n",
      "3/3 [==============================] - 0s 38ms/step - loss: 5.9628e-05 - categorical_accuracy: 1.0000\n",
      "Epoch 478/500\n",
      "3/3 [==============================] - 0s 35ms/step - loss: 5.9265e-05 - categorical_accuracy: 1.0000\n",
      "Epoch 479/500\n",
      "3/3 [==============================] - 0s 36ms/step - loss: 5.8461e-05 - categorical_accuracy: 1.0000\n",
      "Epoch 480/500\n",
      "3/3 [==============================] - 0s 36ms/step - loss: 5.7740e-05 - categorical_accuracy: 1.0000\n",
      "Epoch 481/500\n",
      "3/3 [==============================] - 0s 37ms/step - loss: 5.7369e-05 - categorical_accuracy: 1.0000\n",
      "Epoch 482/500\n",
      "3/3 [==============================] - 0s 37ms/step - loss: 5.7027e-05 - categorical_accuracy: 1.0000\n",
      "Epoch 483/500\n",
      "3/3 [==============================] - 0s 42ms/step - loss: 5.6367e-05 - categorical_accuracy: 1.0000\n",
      "Epoch 484/500\n",
      "3/3 [==============================] - 0s 40ms/step - loss: 5.5894e-05 - categorical_accuracy: 1.0000\n",
      "Epoch 485/500\n",
      "3/3 [==============================] - 0s 39ms/step - loss: 5.5251e-05 - categorical_accuracy: 1.0000\n",
      "Epoch 486/500\n",
      "3/3 [==============================] - 0s 38ms/step - loss: 5.4892e-05 - categorical_accuracy: 1.0000\n",
      "Epoch 487/500\n",
      "3/3 [==============================] - 0s 39ms/step - loss: 5.4340e-05 - categorical_accuracy: 1.0000\n",
      "Epoch 488/500\n",
      "3/3 [==============================] - 0s 37ms/step - loss: 5.3973e-05 - categorical_accuracy: 1.0000\n",
      "Epoch 489/500\n",
      "3/3 [==============================] - 0s 37ms/step - loss: 5.3191e-05 - categorical_accuracy: 1.0000\n",
      "Epoch 490/500\n",
      "3/3 [==============================] - 0s 37ms/step - loss: 5.3082e-05 - categorical_accuracy: 1.0000\n",
      "Epoch 491/500\n",
      "3/3 [==============================] - 0s 43ms/step - loss: 5.2788e-05 - categorical_accuracy: 1.0000\n",
      "Epoch 492/500\n",
      "3/3 [==============================] - 0s 45ms/step - loss: 5.2285e-05 - categorical_accuracy: 1.0000\n",
      "Epoch 493/500\n",
      "3/3 [==============================] - 0s 47ms/step - loss: 5.1576e-05 - categorical_accuracy: 1.0000\n",
      "Epoch 494/500\n",
      "3/3 [==============================] - 0s 39ms/step - loss: 5.1092e-05 - categorical_accuracy: 1.0000\n",
      "Epoch 495/500\n",
      "3/3 [==============================] - 0s 39ms/step - loss: 5.0815e-05 - categorical_accuracy: 1.0000\n",
      "Epoch 496/500\n",
      "3/3 [==============================] - 0s 37ms/step - loss: 5.0127e-05 - categorical_accuracy: 1.0000\n",
      "Epoch 497/500\n",
      "3/3 [==============================] - 0s 36ms/step - loss: 4.9831e-05 - categorical_accuracy: 1.0000\n",
      "Epoch 498/500\n",
      "3/3 [==============================] - 0s 39ms/step - loss: 4.9339e-05 - categorical_accuracy: 1.0000\n",
      "Epoch 499/500\n",
      "3/3 [==============================] - 0s 47ms/step - loss: 4.8905e-05 - categorical_accuracy: 1.0000\n",
      "Epoch 500/500\n",
      "3/3 [==============================] - 0s 40ms/step - loss: 4.8434e-05 - categorical_accuracy: 1.0000\n"
     ]
    },
    {
     "data": {
      "text/plain": [
       "<keras.callbacks.History at 0x1c441a6c250>"
      ]
     },
     "execution_count": 97,
     "metadata": {},
     "output_type": "execute_result"
    }
   ],
   "source": [
    "model.fit(X_train, y_train, epochs=500, callbacks=[tb_callback])"
   ]
  },
  {
   "cell_type": "code",
   "execution_count": 98,
   "metadata": {},
   "outputs": [
    {
     "name": "stdout",
     "output_type": "stream",
     "text": [
      "Model: \"sequential_2\"\n",
      "_________________________________________________________________\n",
      "Layer (type)                 Output Shape              Param #   \n",
      "=================================================================\n",
      "lstm_6 (LSTM)                (None, 14, 64)            442112    \n",
      "_________________________________________________________________\n",
      "lstm_7 (LSTM)                (None, 14, 128)           98816     \n",
      "_________________________________________________________________\n",
      "lstm_8 (LSTM)                (None, 64)                49408     \n",
      "_________________________________________________________________\n",
      "dense_6 (Dense)              (None, 64)                4160      \n",
      "_________________________________________________________________\n",
      "dense_7 (Dense)              (None, 32)                2080      \n",
      "_________________________________________________________________\n",
      "dense_8 (Dense)              (None, 6)                 198       \n",
      "=================================================================\n",
      "Total params: 596,774\n",
      "Trainable params: 596,774\n",
      "Non-trainable params: 0\n",
      "_________________________________________________________________\n"
     ]
    }
   ],
   "source": [
    "model.summary()"
   ]
  },
  {
   "cell_type": "markdown",
   "metadata": {},
   "source": [
    "# 8. Make Predictions"
   ]
  },
  {
   "cell_type": "code",
   "execution_count": 99,
   "metadata": {},
   "outputs": [],
   "source": [
    "res = model.predict(X_test)"
   ]
  },
  {
   "cell_type": "code",
   "execution_count": 100,
   "metadata": {},
   "outputs": [
    {
     "data": {
      "text/plain": [
       "'hello'"
      ]
     },
     "execution_count": 100,
     "metadata": {},
     "output_type": "execute_result"
    }
   ],
   "source": [
    "actions[np.argmax(res[2])]"
   ]
  },
  {
   "cell_type": "code",
   "execution_count": 101,
   "metadata": {},
   "outputs": [
    {
     "data": {
      "text/plain": [
       "'hello'"
      ]
     },
     "execution_count": 101,
     "metadata": {},
     "output_type": "execute_result"
    }
   ],
   "source": [
    "actions[np.argmax(y_test[2])]"
   ]
  },
  {
   "cell_type": "markdown",
   "metadata": {},
   "source": [
    "# 9. Save Weights"
   ]
  },
  {
   "cell_type": "code",
   "execution_count": 102,
   "metadata": {},
   "outputs": [],
   "source": [
    "model.save('action.h5')"
   ]
  },
  {
   "cell_type": "code",
   "execution_count": null,
   "metadata": {},
   "outputs": [],
   "source": [
    "del model"
   ]
  },
  {
   "cell_type": "code",
   "execution_count": null,
   "metadata": {},
   "outputs": [],
   "source": [
    "model.load_weights('action.h5')"
   ]
  },
  {
   "cell_type": "markdown",
   "metadata": {},
   "source": [
    "# 10. Evaluation using Confusion Matrix and Accuracy"
   ]
  },
  {
   "cell_type": "code",
   "execution_count": 103,
   "metadata": {},
   "outputs": [],
   "source": [
    "from sklearn.metrics import multilabel_confusion_matrix, accuracy_score"
   ]
  },
  {
   "cell_type": "code",
   "execution_count": 104,
   "metadata": {},
   "outputs": [],
   "source": [
    "yhat = model.predict(X_test)"
   ]
  },
  {
   "cell_type": "code",
   "execution_count": 105,
   "metadata": {},
   "outputs": [],
   "source": [
    "ytrue = np.argmax(y_test, axis=1).tolist()\n",
    "yhat = np.argmax(yhat, axis=1).tolist()"
   ]
  },
  {
   "cell_type": "code",
   "execution_count": 106,
   "metadata": {},
   "outputs": [
    {
     "data": {
      "text/plain": [
       "array([[[4, 0],\n",
       "        [0, 1]],\n",
       "\n",
       "       [[4, 0],\n",
       "        [0, 1]],\n",
       "\n",
       "       [[4, 0],\n",
       "        [0, 1]],\n",
       "\n",
       "       [[4, 0],\n",
       "        [0, 1]],\n",
       "\n",
       "       [[4, 0],\n",
       "        [0, 1]]], dtype=int64)"
      ]
     },
     "execution_count": 106,
     "metadata": {},
     "output_type": "execute_result"
    }
   ],
   "source": [
    "multilabel_confusion_matrix(ytrue, yhat)"
   ]
  },
  {
   "cell_type": "code",
   "execution_count": 107,
   "metadata": {},
   "outputs": [
    {
     "data": {
      "text/plain": [
       "1.0"
      ]
     },
     "execution_count": 107,
     "metadata": {},
     "output_type": "execute_result"
    }
   ],
   "source": [
    "accuracy_score(ytrue, yhat)"
   ]
  },
  {
   "cell_type": "markdown",
   "metadata": {},
   "source": [
    "# 11. Test in Real Time"
   ]
  },
  {
   "cell_type": "code",
   "execution_count": 108,
   "metadata": {},
   "outputs": [],
   "source": [
    "from scipy import stats"
   ]
  },
  {
   "cell_type": "code",
   "execution_count": 109,
   "metadata": {},
   "outputs": [],
   "source": [
    "colors = [(245,117,16), (117,245,16), (16,117,245)]\n",
    "def prob_viz(res, actions, input_frame, colors):\n",
    "    output_frame = input_frame.copy()\n",
    "    for num, prob in enumerate(res):\n",
    "        cv2.rectangle(output_frame, (0,60+num*40), (int(prob*100), 90+num*40), colors[num], -1)\n",
    "        cv2.putText(output_frame, actions[num], (0, 85+num*40), cv2.FONT_HERSHEY_SIMPLEX, 1, (255,255,255), 2, cv2.LINE_AA)\n",
    "        \n",
    "    return output_frame"
   ]
  },
  {
   "cell_type": "code",
   "execution_count": null,
   "metadata": {},
   "outputs": [
    {
     "ename": "TypeError",
     "evalue": "only size-1 arrays can be converted to Python scalars",
     "output_type": "error",
     "traceback": [
      "\u001b[1;31m---------------------------------------------------------------------------\u001b[0m",
      "\u001b[1;31mTypeError\u001b[0m                                 Traceback (most recent call last)",
      "\u001b[1;32m<ipython-input-52-0248883a8ffa>\u001b[0m in \u001b[0;36m<module>\u001b[1;34m\u001b[0m\n\u001b[0;32m      1\u001b[0m \u001b[0mplt\u001b[0m\u001b[1;33m.\u001b[0m\u001b[0mfigure\u001b[0m\u001b[1;33m(\u001b[0m\u001b[0mfigsize\u001b[0m\u001b[1;33m=\u001b[0m\u001b[1;33m(\u001b[0m\u001b[1;36m18\u001b[0m\u001b[1;33m,\u001b[0m\u001b[1;36m18\u001b[0m\u001b[1;33m)\u001b[0m\u001b[1;33m)\u001b[0m\u001b[1;33m\u001b[0m\u001b[1;33m\u001b[0m\u001b[0m\n\u001b[1;32m----> 2\u001b[1;33m \u001b[0mplt\u001b[0m\u001b[1;33m.\u001b[0m\u001b[0mimshow\u001b[0m\u001b[1;33m(\u001b[0m\u001b[0mprob_viz\u001b[0m\u001b[1;33m(\u001b[0m\u001b[0mres\u001b[0m\u001b[1;33m,\u001b[0m \u001b[0mactions\u001b[0m\u001b[1;33m,\u001b[0m \u001b[0mimage\u001b[0m\u001b[1;33m,\u001b[0m \u001b[0mcolors\u001b[0m\u001b[1;33m)\u001b[0m\u001b[1;33m)\u001b[0m\u001b[1;33m\u001b[0m\u001b[1;33m\u001b[0m\u001b[0m\n\u001b[0m",
      "\u001b[1;32m<ipython-input-51-e9bc22b256b7>\u001b[0m in \u001b[0;36mprob_viz\u001b[1;34m(res, actions, input_frame, colors)\u001b[0m\n\u001b[0;32m      3\u001b[0m     \u001b[0moutput_frame\u001b[0m \u001b[1;33m=\u001b[0m \u001b[0minput_frame\u001b[0m\u001b[1;33m.\u001b[0m\u001b[0mcopy\u001b[0m\u001b[1;33m(\u001b[0m\u001b[1;33m)\u001b[0m\u001b[1;33m\u001b[0m\u001b[1;33m\u001b[0m\u001b[0m\n\u001b[0;32m      4\u001b[0m     \u001b[1;32mfor\u001b[0m \u001b[0mnum\u001b[0m\u001b[1;33m,\u001b[0m \u001b[0mprob\u001b[0m \u001b[1;32min\u001b[0m \u001b[0menumerate\u001b[0m\u001b[1;33m(\u001b[0m\u001b[0mres\u001b[0m\u001b[1;33m)\u001b[0m\u001b[1;33m:\u001b[0m\u001b[1;33m\u001b[0m\u001b[1;33m\u001b[0m\u001b[0m\n\u001b[1;32m----> 5\u001b[1;33m         \u001b[0mcv2\u001b[0m\u001b[1;33m.\u001b[0m\u001b[0mrectangle\u001b[0m\u001b[1;33m(\u001b[0m\u001b[0moutput_frame\u001b[0m\u001b[1;33m,\u001b[0m \u001b[1;33m(\u001b[0m\u001b[1;36m0\u001b[0m\u001b[1;33m,\u001b[0m\u001b[1;36m60\u001b[0m\u001b[1;33m+\u001b[0m\u001b[0mnum\u001b[0m\u001b[1;33m*\u001b[0m\u001b[1;36m40\u001b[0m\u001b[1;33m)\u001b[0m\u001b[1;33m,\u001b[0m \u001b[1;33m(\u001b[0m\u001b[0mint\u001b[0m\u001b[1;33m(\u001b[0m\u001b[0mprob\u001b[0m\u001b[1;33m*\u001b[0m\u001b[1;36m100\u001b[0m\u001b[1;33m)\u001b[0m\u001b[1;33m,\u001b[0m \u001b[1;36m90\u001b[0m\u001b[1;33m+\u001b[0m\u001b[0mnum\u001b[0m\u001b[1;33m*\u001b[0m\u001b[1;36m40\u001b[0m\u001b[1;33m)\u001b[0m\u001b[1;33m,\u001b[0m \u001b[0mcolors\u001b[0m\u001b[1;33m[\u001b[0m\u001b[0mnum\u001b[0m\u001b[1;33m]\u001b[0m\u001b[1;33m,\u001b[0m \u001b[1;33m-\u001b[0m\u001b[1;36m1\u001b[0m\u001b[1;33m)\u001b[0m\u001b[1;33m\u001b[0m\u001b[1;33m\u001b[0m\u001b[0m\n\u001b[0m\u001b[0;32m      6\u001b[0m         \u001b[0mcv2\u001b[0m\u001b[1;33m.\u001b[0m\u001b[0mputText\u001b[0m\u001b[1;33m(\u001b[0m\u001b[0moutput_frame\u001b[0m\u001b[1;33m,\u001b[0m \u001b[0mactions\u001b[0m\u001b[1;33m[\u001b[0m\u001b[0mnum\u001b[0m\u001b[1;33m]\u001b[0m\u001b[1;33m,\u001b[0m \u001b[1;33m(\u001b[0m\u001b[1;36m0\u001b[0m\u001b[1;33m,\u001b[0m \u001b[1;36m85\u001b[0m\u001b[1;33m+\u001b[0m\u001b[0mnum\u001b[0m\u001b[1;33m*\u001b[0m\u001b[1;36m40\u001b[0m\u001b[1;33m)\u001b[0m\u001b[1;33m,\u001b[0m \u001b[0mcv2\u001b[0m\u001b[1;33m.\u001b[0m\u001b[0mFONT_HERSHEY_SIMPLEX\u001b[0m\u001b[1;33m,\u001b[0m \u001b[1;36m1\u001b[0m\u001b[1;33m,\u001b[0m \u001b[1;33m(\u001b[0m\u001b[1;36m255\u001b[0m\u001b[1;33m,\u001b[0m\u001b[1;36m255\u001b[0m\u001b[1;33m,\u001b[0m\u001b[1;36m255\u001b[0m\u001b[1;33m)\u001b[0m\u001b[1;33m,\u001b[0m \u001b[1;36m2\u001b[0m\u001b[1;33m,\u001b[0m \u001b[0mcv2\u001b[0m\u001b[1;33m.\u001b[0m\u001b[0mLINE_AA\u001b[0m\u001b[1;33m)\u001b[0m\u001b[1;33m\u001b[0m\u001b[1;33m\u001b[0m\u001b[0m\n\u001b[0;32m      7\u001b[0m \u001b[1;33m\u001b[0m\u001b[0m\n",
      "\u001b[1;31mTypeError\u001b[0m: only size-1 arrays can be converted to Python scalars"
     ]
    },
    {
     "data": {
      "text/plain": [
       "<Figure size 1296x1296 with 0 Axes>"
      ]
     },
     "metadata": {},
     "output_type": "display_data"
    }
   ],
   "source": [
    "plt.figure(figsize=(18,18))\n",
    "plt.imshow(prob_viz(res, actions, image, colors))"
   ]
  },
  {
   "cell_type": "code",
   "execution_count": 110,
   "metadata": {},
   "outputs": [
    {
     "name": "stdout",
     "output_type": "stream",
     "text": [
      "<class 'mediapipe.python.solution_base.SolutionOutputs'>\n",
      "<class 'mediapipe.python.solution_base.SolutionOutputs'>\n",
      "<class 'mediapipe.python.solution_base.SolutionOutputs'>\n",
      "<class 'mediapipe.python.solution_base.SolutionOutputs'>\n",
      "<class 'mediapipe.python.solution_base.SolutionOutputs'>\n",
      "<class 'mediapipe.python.solution_base.SolutionOutputs'>\n",
      "<class 'mediapipe.python.solution_base.SolutionOutputs'>\n",
      "<class 'mediapipe.python.solution_base.SolutionOutputs'>\n",
      "<class 'mediapipe.python.solution_base.SolutionOutputs'>\n",
      "<class 'mediapipe.python.solution_base.SolutionOutputs'>\n",
      "<class 'mediapipe.python.solution_base.SolutionOutputs'>\n",
      "<class 'mediapipe.python.solution_base.SolutionOutputs'>\n",
      "<class 'mediapipe.python.solution_base.SolutionOutputs'>\n",
      "<class 'mediapipe.python.solution_base.SolutionOutputs'>\n",
      "<class 'mediapipe.python.solution_base.SolutionOutputs'>\n",
      "<class 'mediapipe.python.solution_base.SolutionOutputs'>\n",
      "<class 'mediapipe.python.solution_base.SolutionOutputs'>\n",
      "<class 'mediapipe.python.solution_base.SolutionOutputs'>\n",
      "<class 'mediapipe.python.solution_base.SolutionOutputs'>\n",
      "<class 'mediapipe.python.solution_base.SolutionOutputs'>\n",
      "<class 'mediapipe.python.solution_base.SolutionOutputs'>\n",
      "<class 'mediapipe.python.solution_base.SolutionOutputs'>\n",
      "<class 'mediapipe.python.solution_base.SolutionOutputs'>\n",
      "<class 'mediapipe.python.solution_base.SolutionOutputs'>\n",
      "<class 'mediapipe.python.solution_base.SolutionOutputs'>\n",
      "<class 'mediapipe.python.solution_base.SolutionOutputs'>\n",
      "<class 'mediapipe.python.solution_base.SolutionOutputs'>\n",
      "<class 'mediapipe.python.solution_base.SolutionOutputs'>\n",
      "<class 'mediapipe.python.solution_base.SolutionOutputs'>\n",
      "<class 'mediapipe.python.solution_base.SolutionOutputs'>\n",
      "alright\n"
     ]
    },
    {
     "ename": "IndexError",
     "evalue": "list index out of range",
     "output_type": "error",
     "traceback": [
      "\u001b[1;31m---------------------------------------------------------------------------\u001b[0m",
      "\u001b[1;31mIndexError\u001b[0m                                Traceback (most recent call last)",
      "\u001b[1;32m<ipython-input-110-5f2ad555cbdb>\u001b[0m in \u001b[0;36m<module>\u001b[1;34m\u001b[0m\n\u001b[0;32m     45\u001b[0m \u001b[1;33m\u001b[0m\u001b[0m\n\u001b[0;32m     46\u001b[0m             \u001b[1;31m# Viz probabilities\u001b[0m\u001b[1;33m\u001b[0m\u001b[1;33m\u001b[0m\u001b[1;33m\u001b[0m\u001b[0m\n\u001b[1;32m---> 47\u001b[1;33m             \u001b[0mimage\u001b[0m \u001b[1;33m=\u001b[0m \u001b[0mprob_viz\u001b[0m\u001b[1;33m(\u001b[0m\u001b[0mres\u001b[0m\u001b[1;33m,\u001b[0m \u001b[0mactions\u001b[0m\u001b[1;33m,\u001b[0m \u001b[0mimage\u001b[0m\u001b[1;33m,\u001b[0m \u001b[0mcolors\u001b[0m\u001b[1;33m)\u001b[0m\u001b[1;33m\u001b[0m\u001b[1;33m\u001b[0m\u001b[0m\n\u001b[0m\u001b[0;32m     48\u001b[0m \u001b[1;33m\u001b[0m\u001b[0m\n\u001b[0;32m     49\u001b[0m         \u001b[0mcv2\u001b[0m\u001b[1;33m.\u001b[0m\u001b[0mrectangle\u001b[0m\u001b[1;33m(\u001b[0m\u001b[0mimage\u001b[0m\u001b[1;33m,\u001b[0m \u001b[1;33m(\u001b[0m\u001b[1;36m0\u001b[0m\u001b[1;33m,\u001b[0m\u001b[1;36m0\u001b[0m\u001b[1;33m)\u001b[0m\u001b[1;33m,\u001b[0m \u001b[1;33m(\u001b[0m\u001b[1;36m640\u001b[0m\u001b[1;33m,\u001b[0m \u001b[1;36m40\u001b[0m\u001b[1;33m)\u001b[0m\u001b[1;33m,\u001b[0m \u001b[1;33m(\u001b[0m\u001b[1;36m245\u001b[0m\u001b[1;33m,\u001b[0m \u001b[1;36m117\u001b[0m\u001b[1;33m,\u001b[0m \u001b[1;36m16\u001b[0m\u001b[1;33m)\u001b[0m\u001b[1;33m,\u001b[0m \u001b[1;33m-\u001b[0m\u001b[1;36m1\u001b[0m\u001b[1;33m)\u001b[0m\u001b[1;33m\u001b[0m\u001b[1;33m\u001b[0m\u001b[0m\n",
      "\u001b[1;32m<ipython-input-109-e9bc22b256b7>\u001b[0m in \u001b[0;36mprob_viz\u001b[1;34m(res, actions, input_frame, colors)\u001b[0m\n\u001b[0;32m      3\u001b[0m     \u001b[0moutput_frame\u001b[0m \u001b[1;33m=\u001b[0m \u001b[0minput_frame\u001b[0m\u001b[1;33m.\u001b[0m\u001b[0mcopy\u001b[0m\u001b[1;33m(\u001b[0m\u001b[1;33m)\u001b[0m\u001b[1;33m\u001b[0m\u001b[1;33m\u001b[0m\u001b[0m\n\u001b[0;32m      4\u001b[0m     \u001b[1;32mfor\u001b[0m \u001b[0mnum\u001b[0m\u001b[1;33m,\u001b[0m \u001b[0mprob\u001b[0m \u001b[1;32min\u001b[0m \u001b[0menumerate\u001b[0m\u001b[1;33m(\u001b[0m\u001b[0mres\u001b[0m\u001b[1;33m)\u001b[0m\u001b[1;33m:\u001b[0m\u001b[1;33m\u001b[0m\u001b[1;33m\u001b[0m\u001b[0m\n\u001b[1;32m----> 5\u001b[1;33m         \u001b[0mcv2\u001b[0m\u001b[1;33m.\u001b[0m\u001b[0mrectangle\u001b[0m\u001b[1;33m(\u001b[0m\u001b[0moutput_frame\u001b[0m\u001b[1;33m,\u001b[0m \u001b[1;33m(\u001b[0m\u001b[1;36m0\u001b[0m\u001b[1;33m,\u001b[0m\u001b[1;36m60\u001b[0m\u001b[1;33m+\u001b[0m\u001b[0mnum\u001b[0m\u001b[1;33m*\u001b[0m\u001b[1;36m40\u001b[0m\u001b[1;33m)\u001b[0m\u001b[1;33m,\u001b[0m \u001b[1;33m(\u001b[0m\u001b[0mint\u001b[0m\u001b[1;33m(\u001b[0m\u001b[0mprob\u001b[0m\u001b[1;33m*\u001b[0m\u001b[1;36m100\u001b[0m\u001b[1;33m)\u001b[0m\u001b[1;33m,\u001b[0m \u001b[1;36m90\u001b[0m\u001b[1;33m+\u001b[0m\u001b[0mnum\u001b[0m\u001b[1;33m*\u001b[0m\u001b[1;36m40\u001b[0m\u001b[1;33m)\u001b[0m\u001b[1;33m,\u001b[0m \u001b[0mcolors\u001b[0m\u001b[1;33m[\u001b[0m\u001b[0mnum\u001b[0m\u001b[1;33m]\u001b[0m\u001b[1;33m,\u001b[0m \u001b[1;33m-\u001b[0m\u001b[1;36m1\u001b[0m\u001b[1;33m)\u001b[0m\u001b[1;33m\u001b[0m\u001b[1;33m\u001b[0m\u001b[0m\n\u001b[0m\u001b[0;32m      6\u001b[0m         \u001b[0mcv2\u001b[0m\u001b[1;33m.\u001b[0m\u001b[0mputText\u001b[0m\u001b[1;33m(\u001b[0m\u001b[0moutput_frame\u001b[0m\u001b[1;33m,\u001b[0m \u001b[0mactions\u001b[0m\u001b[1;33m[\u001b[0m\u001b[0mnum\u001b[0m\u001b[1;33m]\u001b[0m\u001b[1;33m,\u001b[0m \u001b[1;33m(\u001b[0m\u001b[1;36m0\u001b[0m\u001b[1;33m,\u001b[0m \u001b[1;36m85\u001b[0m\u001b[1;33m+\u001b[0m\u001b[0mnum\u001b[0m\u001b[1;33m*\u001b[0m\u001b[1;36m40\u001b[0m\u001b[1;33m)\u001b[0m\u001b[1;33m,\u001b[0m \u001b[0mcv2\u001b[0m\u001b[1;33m.\u001b[0m\u001b[0mFONT_HERSHEY_SIMPLEX\u001b[0m\u001b[1;33m,\u001b[0m \u001b[1;36m1\u001b[0m\u001b[1;33m,\u001b[0m \u001b[1;33m(\u001b[0m\u001b[1;36m255\u001b[0m\u001b[1;33m,\u001b[0m\u001b[1;36m255\u001b[0m\u001b[1;33m,\u001b[0m\u001b[1;36m255\u001b[0m\u001b[1;33m)\u001b[0m\u001b[1;33m,\u001b[0m \u001b[1;36m2\u001b[0m\u001b[1;33m,\u001b[0m \u001b[0mcv2\u001b[0m\u001b[1;33m.\u001b[0m\u001b[0mLINE_AA\u001b[0m\u001b[1;33m)\u001b[0m\u001b[1;33m\u001b[0m\u001b[1;33m\u001b[0m\u001b[0m\n\u001b[0;32m      7\u001b[0m \u001b[1;33m\u001b[0m\u001b[0m\n",
      "\u001b[1;31mIndexError\u001b[0m: list index out of range"
     ]
    }
   ],
   "source": [
    "# 1. New detection variables\n",
    "sequence = []\n",
    "sentence = []\n",
    "predictions = []\n",
    "threshold = 0.5\n",
    "\n",
    "cap = cv2.VideoCapture(0)\n",
    "# Set mediapipe model \n",
    "with mp_holistic.Holistic(min_detection_confidence=0.5, min_tracking_confidence=0.5) as holistic:\n",
    "    while cap.isOpened():\n",
    "\n",
    "        # Read feed\n",
    "        ret, frame = cap.read()\n",
    "\n",
    "        # Make detections\n",
    "        image, results = mediapipe_detection(frame, holistic)\n",
    "        #print(results)\n",
    "        \n",
    "        # Draw landmarks\n",
    "        draw_styled_landmarks(image, results)\n",
    "        \n",
    "        # 2. Prediction logic\n",
    "        keypoints = extract_keypoints(results)\n",
    "        sequence.append(keypoints)\n",
    "        sequence = sequence[-30:]\n",
    "        \n",
    "        if len(sequence) == 30:\n",
    "            res = model.predict(np.expand_dims(sequence, axis=0))[0]\n",
    "            print(actions[np.argmax(res)])\n",
    "            predictions.append(np.argmax(res))\n",
    "            \n",
    "            \n",
    "        #3. Viz logic\n",
    "            if np.unique(predictions[-10:])[0]==np.argmax(res): \n",
    "                if res[np.argmax(res)] > threshold: \n",
    "                    \n",
    "                    if len(sentence) > 0: \n",
    "                        if actions[np.argmax(res)] != sentence[-1]:\n",
    "                            sentence.append(actions[np.argmax(res)])\n",
    "                    else:\n",
    "                        sentence.append(actions[np.argmax(res)])\n",
    "\n",
    "            if len(sentence) > 5: \n",
    "                sentence = sentence[-5:]\n",
    "\n",
    "            # Viz probabilities\n",
    "            image = prob_viz(res, actions, image, colors)\n",
    "            \n",
    "        cv2.rectangle(image, (0,0), (640, 40), (245, 117, 16), -1)\n",
    "        cv2.putText(image, ' '.join(sentence), (3,30), \n",
    "                       cv2.FONT_HERSHEY_SIMPLEX, 1, (255, 255, 255), 2, cv2.LINE_AA)\n",
    "        \n",
    "        # Show to screen\n",
    "        cv2.imshow('OpenCV Feed', image)\n",
    "\n",
    "        # Break gracefully\n",
    "        if cv2.waitKey(10) & 0xFF == ord('q'):\n",
    "            break\n",
    "    cap.release()\n",
    "    cv2.destroyAllWindows()"
   ]
  },
  {
   "cell_type": "code",
   "execution_count": null,
   "metadata": {},
   "outputs": [],
   "source": []
  }
 ],
 "metadata": {
  "interpreter": {
   "hash": "c9fdc291767223b7edffa86184b15ca00cebd1e6ede65688435cec100542d0c4"
  },
  "kernelspec": {
   "display_name": "Python 3",
   "language": "python",
   "name": "python3"
  },
  "language_info": {
   "codemirror_mode": {
    "name": "ipython",
    "version": 3
   },
   "file_extension": ".py",
   "mimetype": "text/x-python",
   "name": "python",
   "nbconvert_exporter": "python",
   "pygments_lexer": "ipython3",
   "version": "3.7.4"
  }
 },
 "nbformat": 4,
 "nbformat_minor": 2
}